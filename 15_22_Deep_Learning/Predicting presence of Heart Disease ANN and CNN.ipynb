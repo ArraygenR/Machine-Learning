{
 "cells": [
  {
   "cell_type": "markdown",
   "metadata": {},
   "source": [
    "# Predicting presence of Heart Disease"
   ]
  },
  {
   "cell_type": "markdown",
   "metadata": {},
   "source": [
    "## 1. Importing essential libraries"
   ]
  },
  {
   "cell_type": "code",
   "execution_count": 1,
   "metadata": {},
   "outputs": [],
   "source": [
    "import  numpy as np\n",
    "import pandas as pd\n",
    "import matplotlib.pyplot as plt\n",
    "import seaborn as sns"
   ]
  },
  {
   "cell_type": "markdown",
   "metadata": {},
   "source": [
    "## 2.Reading data"
   ]
  },
  {
   "cell_type": "code",
   "execution_count": 2,
   "metadata": {},
   "outputs": [],
   "source": [
    "dataset = pd.read_csv(\"/home/arraygen/Akshata/Machine_Learning/6_to_12_Machine_Learning/Classification/input/heart.csv\")"
   ]
  },
  {
   "cell_type": "code",
   "execution_count": 3,
   "metadata": {},
   "outputs": [
    {
     "name": "stdout",
     "output_type": "stream",
     "text": [
      "<class 'pandas.core.frame.DataFrame'>\n",
      "RangeIndex: 303 entries, 0 to 302\n",
      "Data columns (total 14 columns):\n",
      " #   Column    Non-Null Count  Dtype  \n",
      "---  ------    --------------  -----  \n",
      " 0   age       303 non-null    int64  \n",
      " 1   sex       303 non-null    int64  \n",
      " 2   cp        303 non-null    int64  \n",
      " 3   trestbps  303 non-null    int64  \n",
      " 4   chol      303 non-null    int64  \n",
      " 5   fbs       303 non-null    int64  \n",
      " 6   restecg   303 non-null    int64  \n",
      " 7   thalach   303 non-null    int64  \n",
      " 8   exang     303 non-null    int64  \n",
      " 9   oldpeak   303 non-null    float64\n",
      " 10  slope     303 non-null    int64  \n",
      " 11  ca        303 non-null    int64  \n",
      " 12  thal      303 non-null    int64  \n",
      " 13  target    303 non-null    int64  \n",
      "dtypes: float64(1), int64(13)\n",
      "memory usage: 33.3 KB\n"
     ]
    }
   ],
   "source": [
    "dataset.info()"
   ]
  },
  {
   "cell_type": "code",
   "execution_count": 4,
   "metadata": {},
   "outputs": [
    {
     "data": {
      "text/plain": [
       "pandas.core.frame.DataFrame"
      ]
     },
     "execution_count": 4,
     "metadata": {},
     "output_type": "execute_result"
    }
   ],
   "source": [
    "type(dataset)"
   ]
  },
  {
   "cell_type": "code",
   "execution_count": 5,
   "metadata": {},
   "outputs": [
    {
     "data": {
      "text/plain": [
       "Index(['age', 'sex', 'cp', 'trestbps', 'chol', 'fbs', 'restecg', 'thalach',\n",
       "       'exang', 'oldpeak', 'slope', 'ca', 'thal', 'target'],\n",
       "      dtype='object')"
      ]
     },
     "execution_count": 5,
     "metadata": {},
     "output_type": "execute_result"
    }
   ],
   "source": [
    "dataset.columns"
   ]
  },
  {
   "cell_type": "code",
   "execution_count": 6,
   "metadata": {},
   "outputs": [],
   "source": [
    "from sklearn.model_selection import train_test_split\n",
    "\n",
    "predictors = dataset.drop(\"target\",axis=1)\n",
    "target = dataset[\"target\"]\n",
    "\n",
    "X_train,X_test,Y_train,Y_test = train_test_split(predictors,target,test_size=0.20,random_state=5)\n"
   ]
  },
  {
   "cell_type": "code",
   "execution_count": 7,
   "metadata": {},
   "outputs": [
    {
     "data": {
      "text/plain": [
       "(242, 13)"
      ]
     },
     "execution_count": 7,
     "metadata": {},
     "output_type": "execute_result"
    }
   ],
   "source": [
    "X_train.shape"
   ]
  },
  {
   "cell_type": "code",
   "execution_count": 8,
   "metadata": {},
   "outputs": [
    {
     "data": {
      "text/plain": [
       "(61, 13)"
      ]
     },
     "execution_count": 8,
     "metadata": {},
     "output_type": "execute_result"
    }
   ],
   "source": [
    "X_test.shape"
   ]
  },
  {
   "cell_type": "code",
   "execution_count": 9,
   "metadata": {},
   "outputs": [
    {
     "data": {
      "text/plain": [
       "(242,)"
      ]
     },
     "execution_count": 9,
     "metadata": {},
     "output_type": "execute_result"
    }
   ],
   "source": [
    "Y_train.shape"
   ]
  },
  {
   "cell_type": "code",
   "execution_count": 10,
   "metadata": {},
   "outputs": [
    {
     "data": {
      "text/plain": [
       "(61,)"
      ]
     },
     "execution_count": 10,
     "metadata": {},
     "output_type": "execute_result"
    }
   ],
   "source": [
    "Y_test.shape"
   ]
  },
  {
   "cell_type": "markdown",
   "metadata": {},
   "source": [
    "## 5. Model Fitting"
   ]
  },
  {
   "cell_type": "markdown",
   "metadata": {},
   "source": [
    "### Neural Network"
   ]
  },
  {
   "cell_type": "code",
   "execution_count": 11,
   "metadata": {},
   "outputs": [
    {
     "name": "stdout",
     "output_type": "stream",
     "text": [
      "(242, 13) (242,)\n",
      "(242, 13) (61,)\n",
      "Index(['age', 'sex', 'cp', 'trestbps', 'chol', 'fbs', 'restecg', 'thalach',\n",
      "       'exang', 'oldpeak', 'slope', 'ca', 'thal', 'target'],\n",
      "      dtype='object')\n"
     ]
    }
   ],
   "source": [
    "\n",
    "from sklearn.preprocessing import StandardScaler , MinMaxScaler\n",
    "sc = StandardScaler()\n",
    "#sc = MinMaxScaler()\n",
    "\n",
    "# normalize data\n",
    "X_train_scaled = sc.fit_transform(X_train)\n",
    "X_train1 = X_train_scaled.reshape(242,13,1)\n",
    "X_train = pd.DataFrame(X_train_scaled)\n",
    "\n",
    "X_test_scaled = sc.fit_transform(X_test)\n",
    "X_test1 = X_test_scaled.reshape(61, 13, 1)\n",
    "X_test = pd.DataFrame(X_test_scaled)\n",
    "\n",
    "print (X_train.shape, Y_train.shape)\n",
    "print (X_train.shape, Y_test.shape)\n",
    "print (dataset.columns)"
   ]
  },
  {
   "cell_type": "code",
   "execution_count": 12,
   "metadata": {},
   "outputs": [
    {
     "name": "stderr",
     "output_type": "stream",
     "text": [
      "Using TensorFlow backend.\n",
      "/usr/local/lib/python3.6/dist-packages/tensorflow/python/framework/dtypes.py:493: FutureWarning: Passing (type, 1) or '1type' as a synonym of type is deprecated; in a future version of numpy, it will be understood as (type, (1,)) / '(1,)type'.\n",
      "  _np_qint8 = np.dtype([(\"qint8\", np.int8, 1)])\n",
      "/usr/local/lib/python3.6/dist-packages/tensorflow/python/framework/dtypes.py:494: FutureWarning: Passing (type, 1) or '1type' as a synonym of type is deprecated; in a future version of numpy, it will be understood as (type, (1,)) / '(1,)type'.\n",
      "  _np_quint8 = np.dtype([(\"quint8\", np.uint8, 1)])\n",
      "/usr/local/lib/python3.6/dist-packages/tensorflow/python/framework/dtypes.py:495: FutureWarning: Passing (type, 1) or '1type' as a synonym of type is deprecated; in a future version of numpy, it will be understood as (type, (1,)) / '(1,)type'.\n",
      "  _np_qint16 = np.dtype([(\"qint16\", np.int16, 1)])\n",
      "/usr/local/lib/python3.6/dist-packages/tensorflow/python/framework/dtypes.py:496: FutureWarning: Passing (type, 1) or '1type' as a synonym of type is deprecated; in a future version of numpy, it will be understood as (type, (1,)) / '(1,)type'.\n",
      "  _np_quint16 = np.dtype([(\"quint16\", np.uint16, 1)])\n",
      "/usr/local/lib/python3.6/dist-packages/tensorflow/python/framework/dtypes.py:497: FutureWarning: Passing (type, 1) or '1type' as a synonym of type is deprecated; in a future version of numpy, it will be understood as (type, (1,)) / '(1,)type'.\n",
      "  _np_qint32 = np.dtype([(\"qint32\", np.int32, 1)])\n",
      "/usr/local/lib/python3.6/dist-packages/tensorflow/python/framework/dtypes.py:502: FutureWarning: Passing (type, 1) or '1type' as a synonym of type is deprecated; in a future version of numpy, it will be understood as (type, (1,)) / '(1,)type'.\n",
      "  np_resource = np.dtype([(\"resource\", np.ubyte, 1)])\n"
     ]
    }
   ],
   "source": [
    "from keras.models import Sequential\n",
    "from keras.layers import Dense , Dropout , LeakyReLU  , BatchNormalization\n"
   ]
  },
  {
   "cell_type": "code",
   "execution_count": 13,
   "metadata": {},
   "outputs": [],
   "source": [
    "classifier = Sequential()\n",
    "\n",
    "# Adding the input layer and the first hidden layer\n",
    "classifier.add(Dense(units=13, kernel_initializer = 'he_uniform', input_dim = 13 , activation = 'relu')) \n",
    "#classifier.add(BatchNormalization())\n",
    "classifier.add(Dense(units=16, kernel_initializer = 'he_uniform', activation = 'relu')) \n",
    "classifier.add(Dropout(0.2))\n",
    "\n",
    "# Adding the output layer\n",
    "classifier.add(Dense(units = 1, kernel_initializer = 'glorot_uniform', activation = 'sigmoid'))\n",
    "\n",
    "# Compiling the ANN\n",
    "classifier.compile(optimizer = 'adam', loss = 'binary_crossentropy', metrics = ['accuracy'])\n",
    "\n",
    "#classifier.get_weights()"
   ]
  },
  {
   "cell_type": "code",
   "execution_count": 14,
   "metadata": {},
   "outputs": [
    {
     "name": "stdout",
     "output_type": "stream",
     "text": [
      "_________________________________________________________________\n",
      "Layer (type)                 Output Shape              Param #   \n",
      "=================================================================\n",
      "dense_1 (Dense)              (None, 13)                182       \n",
      "_________________________________________________________________\n",
      "dense_2 (Dense)              (None, 16)                224       \n",
      "_________________________________________________________________\n",
      "dropout_1 (Dropout)          (None, 16)                0         \n",
      "_________________________________________________________________\n",
      "dense_3 (Dense)              (None, 1)                 17        \n",
      "=================================================================\n",
      "Total params: 423\n",
      "Trainable params: 423\n",
      "Non-trainable params: 0\n",
      "_________________________________________________________________\n"
     ]
    }
   ],
   "source": [
    "classifier.summary()"
   ]
  },
  {
   "cell_type": "code",
   "execution_count": 15,
   "metadata": {},
   "outputs": [
    {
     "name": "stdout",
     "output_type": "stream",
     "text": [
      "Train on 242 samples, validate on 61 samples\n",
      "Epoch 1/170\n",
      "242/242 [==============================] - 1s 3ms/step - loss: 0.9445 - acc: 0.3802 - val_loss: 0.9224 - val_acc: 0.3607\n",
      "Epoch 2/170\n",
      "242/242 [==============================] - 0s 143us/step - loss: 0.8912 - acc: 0.4256 - val_loss: 0.8746 - val_acc: 0.3770\n",
      "Epoch 3/170\n",
      "242/242 [==============================] - 0s 109us/step - loss: 0.8175 - acc: 0.4669 - val_loss: 0.8325 - val_acc: 0.4426\n",
      "Epoch 4/170\n",
      "242/242 [==============================] - 0s 174us/step - loss: 0.7669 - acc: 0.4959 - val_loss: 0.7968 - val_acc: 0.4262\n",
      "Epoch 5/170\n",
      "242/242 [==============================] - 0s 139us/step - loss: 0.7287 - acc: 0.5124 - val_loss: 0.7663 - val_acc: 0.4754\n",
      "Epoch 6/170\n",
      "242/242 [==============================] - 0s 121us/step - loss: 0.7249 - acc: 0.5248 - val_loss: 0.7373 - val_acc: 0.5410\n",
      "Epoch 7/170\n",
      "242/242 [==============================] - 0s 152us/step - loss: 0.7081 - acc: 0.5868 - val_loss: 0.7114 - val_acc: 0.5902\n",
      "Epoch 8/170\n",
      "242/242 [==============================] - 0s 225us/step - loss: 0.7188 - acc: 0.5496 - val_loss: 0.6879 - val_acc: 0.5574\n",
      "Epoch 9/170\n",
      "242/242 [==============================] - 0s 120us/step - loss: 0.6741 - acc: 0.5909 - val_loss: 0.6646 - val_acc: 0.5902\n",
      "Epoch 10/170\n",
      "242/242 [==============================] - 0s 140us/step - loss: 0.6307 - acc: 0.6694 - val_loss: 0.6444 - val_acc: 0.5902\n",
      "Epoch 11/170\n",
      "242/242 [==============================] - 0s 157us/step - loss: 0.6483 - acc: 0.6488 - val_loss: 0.6240 - val_acc: 0.6393\n",
      "Epoch 12/170\n",
      "242/242 [==============================] - 0s 144us/step - loss: 0.6199 - acc: 0.6818 - val_loss: 0.6055 - val_acc: 0.6721\n",
      "Epoch 13/170\n",
      "242/242 [==============================] - 0s 123us/step - loss: 0.6107 - acc: 0.6653 - val_loss: 0.5887 - val_acc: 0.7049\n",
      "Epoch 14/170\n",
      "242/242 [==============================] - 0s 130us/step - loss: 0.5771 - acc: 0.7231 - val_loss: 0.5731 - val_acc: 0.6885\n",
      "Epoch 15/170\n",
      "242/242 [==============================] - 0s 126us/step - loss: 0.5938 - acc: 0.6860 - val_loss: 0.5592 - val_acc: 0.6885\n",
      "Epoch 16/170\n",
      "242/242 [==============================] - 0s 127us/step - loss: 0.5395 - acc: 0.7603 - val_loss: 0.5455 - val_acc: 0.6885\n",
      "Epoch 17/170\n",
      "242/242 [==============================] - 0s 129us/step - loss: 0.5736 - acc: 0.7066 - val_loss: 0.5325 - val_acc: 0.7049\n",
      "Epoch 18/170\n",
      "242/242 [==============================] - 0s 144us/step - loss: 0.5618 - acc: 0.7190 - val_loss: 0.5203 - val_acc: 0.7213\n",
      "Epoch 19/170\n",
      "242/242 [==============================] - 0s 137us/step - loss: 0.5597 - acc: 0.7190 - val_loss: 0.5094 - val_acc: 0.7213\n",
      "Epoch 20/170\n",
      "242/242 [==============================] - 0s 185us/step - loss: 0.5484 - acc: 0.7314 - val_loss: 0.4989 - val_acc: 0.7213\n",
      "Epoch 21/170\n",
      "242/242 [==============================] - 0s 165us/step - loss: 0.5336 - acc: 0.7438 - val_loss: 0.4895 - val_acc: 0.7377\n",
      "Epoch 22/170\n",
      "242/242 [==============================] - 0s 159us/step - loss: 0.5276 - acc: 0.7686 - val_loss: 0.4798 - val_acc: 0.7541\n",
      "Epoch 23/170\n",
      "242/242 [==============================] - 0s 195us/step - loss: 0.5001 - acc: 0.7934 - val_loss: 0.4711 - val_acc: 0.7541\n",
      "Epoch 24/170\n",
      "242/242 [==============================] - 0s 160us/step - loss: 0.4750 - acc: 0.8017 - val_loss: 0.4616 - val_acc: 0.7705\n",
      "Epoch 25/170\n",
      "242/242 [==============================] - 0s 170us/step - loss: 0.5036 - acc: 0.7727 - val_loss: 0.4525 - val_acc: 0.7869\n",
      "Epoch 26/170\n",
      "242/242 [==============================] - 0s 155us/step - loss: 0.4946 - acc: 0.7645 - val_loss: 0.4449 - val_acc: 0.8033\n",
      "Epoch 27/170\n",
      "242/242 [==============================] - 0s 186us/step - loss: 0.4908 - acc: 0.7893 - val_loss: 0.4373 - val_acc: 0.8033\n",
      "Epoch 28/170\n",
      "242/242 [==============================] - 0s 190us/step - loss: 0.4621 - acc: 0.7975 - val_loss: 0.4295 - val_acc: 0.8033\n",
      "Epoch 29/170\n",
      "242/242 [==============================] - 0s 134us/step - loss: 0.4675 - acc: 0.7934 - val_loss: 0.4228 - val_acc: 0.8033\n",
      "Epoch 30/170\n",
      "242/242 [==============================] - 0s 144us/step - loss: 0.4549 - acc: 0.8099 - val_loss: 0.4164 - val_acc: 0.8197\n",
      "Epoch 31/170\n",
      "242/242 [==============================] - 0s 213us/step - loss: 0.4541 - acc: 0.7975 - val_loss: 0.4105 - val_acc: 0.8361\n",
      "Epoch 32/170\n",
      "242/242 [==============================] - 0s 228us/step - loss: 0.4657 - acc: 0.7893 - val_loss: 0.4042 - val_acc: 0.8361\n",
      "Epoch 33/170\n",
      "242/242 [==============================] - 0s 211us/step - loss: 0.4557 - acc: 0.7769 - val_loss: 0.3984 - val_acc: 0.8361\n",
      "Epoch 34/170\n",
      "242/242 [==============================] - 0s 175us/step - loss: 0.4410 - acc: 0.8264 - val_loss: 0.3929 - val_acc: 0.8361\n",
      "Epoch 35/170\n",
      "242/242 [==============================] - 0s 210us/step - loss: 0.4359 - acc: 0.7851 - val_loss: 0.3872 - val_acc: 0.8361\n",
      "Epoch 36/170\n",
      "242/242 [==============================] - 0s 185us/step - loss: 0.4321 - acc: 0.8058 - val_loss: 0.3816 - val_acc: 0.8361\n",
      "Epoch 37/170\n",
      "242/242 [==============================] - 0s 168us/step - loss: 0.4333 - acc: 0.8182 - val_loss: 0.3769 - val_acc: 0.8361\n",
      "Epoch 38/170\n",
      "242/242 [==============================] - 0s 144us/step - loss: 0.4123 - acc: 0.8182 - val_loss: 0.3722 - val_acc: 0.8361\n",
      "Epoch 39/170\n",
      "242/242 [==============================] - 0s 143us/step - loss: 0.4055 - acc: 0.8306 - val_loss: 0.3683 - val_acc: 0.8361\n",
      "Epoch 40/170\n",
      "242/242 [==============================] - 0s 169us/step - loss: 0.4041 - acc: 0.8140 - val_loss: 0.3649 - val_acc: 0.8361\n",
      "Epoch 41/170\n",
      "242/242 [==============================] - 0s 132us/step - loss: 0.4331 - acc: 0.8182 - val_loss: 0.3610 - val_acc: 0.8361\n",
      "Epoch 42/170\n",
      "242/242 [==============================] - 0s 164us/step - loss: 0.4036 - acc: 0.8347 - val_loss: 0.3575 - val_acc: 0.8361\n",
      "Epoch 43/170\n",
      "242/242 [==============================] - 0s 126us/step - loss: 0.3883 - acc: 0.8471 - val_loss: 0.3552 - val_acc: 0.8361\n",
      "Epoch 44/170\n",
      "242/242 [==============================] - 0s 185us/step - loss: 0.4114 - acc: 0.8223 - val_loss: 0.3524 - val_acc: 0.8361\n",
      "Epoch 45/170\n",
      "242/242 [==============================] - 0s 154us/step - loss: 0.4116 - acc: 0.7934 - val_loss: 0.3506 - val_acc: 0.8361\n",
      "Epoch 46/170\n",
      "242/242 [==============================] - 0s 127us/step - loss: 0.3946 - acc: 0.8264 - val_loss: 0.3472 - val_acc: 0.8361\n",
      "Epoch 47/170\n",
      "242/242 [==============================] - 0s 123us/step - loss: 0.3822 - acc: 0.8388 - val_loss: 0.3448 - val_acc: 0.8361\n",
      "Epoch 48/170\n",
      "242/242 [==============================] - 0s 113us/step - loss: 0.4072 - acc: 0.8223 - val_loss: 0.3413 - val_acc: 0.8361\n",
      "Epoch 49/170\n",
      "242/242 [==============================] - 0s 111us/step - loss: 0.3906 - acc: 0.8223 - val_loss: 0.3388 - val_acc: 0.8525\n",
      "Epoch 50/170\n",
      "242/242 [==============================] - 0s 166us/step - loss: 0.3964 - acc: 0.8347 - val_loss: 0.3371 - val_acc: 0.8525\n",
      "Epoch 51/170\n",
      "242/242 [==============================] - 0s 144us/step - loss: 0.4101 - acc: 0.8182 - val_loss: 0.3364 - val_acc: 0.8525\n",
      "Epoch 52/170\n",
      "242/242 [==============================] - 0s 135us/step - loss: 0.3875 - acc: 0.8182 - val_loss: 0.3347 - val_acc: 0.8525\n",
      "Epoch 53/170\n",
      "242/242 [==============================] - 0s 136us/step - loss: 0.3655 - acc: 0.8595 - val_loss: 0.3336 - val_acc: 0.8525\n",
      "Epoch 54/170\n",
      "242/242 [==============================] - 0s 184us/step - loss: 0.3679 - acc: 0.8306 - val_loss: 0.3319 - val_acc: 0.8525\n",
      "Epoch 55/170\n",
      "242/242 [==============================] - 0s 163us/step - loss: 0.3762 - acc: 0.8223 - val_loss: 0.3297 - val_acc: 0.8525\n",
      "Epoch 56/170\n",
      "242/242 [==============================] - 0s 151us/step - loss: 0.3934 - acc: 0.8223 - val_loss: 0.3275 - val_acc: 0.8525\n",
      "Epoch 57/170\n",
      "242/242 [==============================] - 0s 136us/step - loss: 0.3801 - acc: 0.8140 - val_loss: 0.3274 - val_acc: 0.8525\n",
      "Epoch 58/170\n",
      "242/242 [==============================] - 0s 128us/step - loss: 0.3588 - acc: 0.8512 - val_loss: 0.3266 - val_acc: 0.8525\n",
      "Epoch 59/170\n",
      "242/242 [==============================] - 0s 144us/step - loss: 0.3545 - acc: 0.8430 - val_loss: 0.3259 - val_acc: 0.8689\n",
      "Epoch 60/170\n",
      "242/242 [==============================] - 0s 178us/step - loss: 0.3527 - acc: 0.8595 - val_loss: 0.3249 - val_acc: 0.8689\n"
     ]
    },
    {
     "name": "stdout",
     "output_type": "stream",
     "text": [
      "Epoch 61/170\n",
      "242/242 [==============================] - 0s 170us/step - loss: 0.3584 - acc: 0.8471 - val_loss: 0.3238 - val_acc: 0.8852\n",
      "Epoch 62/170\n",
      "242/242 [==============================] - 0s 156us/step - loss: 0.3546 - acc: 0.8347 - val_loss: 0.3227 - val_acc: 0.8852\n",
      "Epoch 63/170\n",
      "242/242 [==============================] - 0s 151us/step - loss: 0.3774 - acc: 0.8182 - val_loss: 0.3227 - val_acc: 0.8852\n",
      "Epoch 64/170\n",
      "242/242 [==============================] - 0s 152us/step - loss: 0.3593 - acc: 0.8471 - val_loss: 0.3226 - val_acc: 0.8852\n",
      "Epoch 65/170\n",
      "242/242 [==============================] - 0s 121us/step - loss: 0.3468 - acc: 0.8595 - val_loss: 0.3221 - val_acc: 0.8852\n",
      "Epoch 66/170\n",
      "242/242 [==============================] - 0s 125us/step - loss: 0.3553 - acc: 0.8471 - val_loss: 0.3207 - val_acc: 0.8852\n",
      "Epoch 67/170\n",
      "242/242 [==============================] - 0s 136us/step - loss: 0.3504 - acc: 0.8223 - val_loss: 0.3192 - val_acc: 0.8852\n",
      "Epoch 68/170\n",
      "242/242 [==============================] - 0s 132us/step - loss: 0.3485 - acc: 0.8471 - val_loss: 0.3185 - val_acc: 0.8852\n",
      "Epoch 69/170\n",
      "242/242 [==============================] - 0s 149us/step - loss: 0.3455 - acc: 0.8388 - val_loss: 0.3169 - val_acc: 0.8852\n",
      "Epoch 70/170\n",
      "242/242 [==============================] - 0s 144us/step - loss: 0.3404 - acc: 0.8554 - val_loss: 0.3159 - val_acc: 0.8852\n",
      "Epoch 71/170\n",
      "242/242 [==============================] - 0s 109us/step - loss: 0.3430 - acc: 0.8430 - val_loss: 0.3152 - val_acc: 0.8852\n",
      "Epoch 72/170\n",
      "242/242 [==============================] - 0s 122us/step - loss: 0.3462 - acc: 0.8264 - val_loss: 0.3149 - val_acc: 0.8852\n",
      "Epoch 73/170\n",
      "242/242 [==============================] - 0s 119us/step - loss: 0.3190 - acc: 0.8636 - val_loss: 0.3135 - val_acc: 0.8852\n",
      "Epoch 74/170\n",
      "242/242 [==============================] - 0s 106us/step - loss: 0.3361 - acc: 0.8512 - val_loss: 0.3116 - val_acc: 0.8852\n",
      "Epoch 75/170\n",
      "242/242 [==============================] - 0s 136us/step - loss: 0.3182 - acc: 0.8636 - val_loss: 0.3113 - val_acc: 0.8852\n",
      "Epoch 76/170\n",
      "242/242 [==============================] - 0s 125us/step - loss: 0.3499 - acc: 0.8471 - val_loss: 0.3100 - val_acc: 0.8852\n",
      "Epoch 77/170\n",
      "242/242 [==============================] - 0s 117us/step - loss: 0.3063 - acc: 0.8719 - val_loss: 0.3087 - val_acc: 0.8852\n",
      "Epoch 78/170\n",
      "242/242 [==============================] - 0s 124us/step - loss: 0.3204 - acc: 0.8636 - val_loss: 0.3077 - val_acc: 0.8852\n",
      "Epoch 79/170\n",
      "242/242 [==============================] - 0s 129us/step - loss: 0.3152 - acc: 0.8678 - val_loss: 0.3064 - val_acc: 0.8852\n",
      "Epoch 80/170\n",
      "242/242 [==============================] - 0s 138us/step - loss: 0.2937 - acc: 0.8719 - val_loss: 0.3059 - val_acc: 0.8852\n",
      "Epoch 81/170\n",
      "242/242 [==============================] - 0s 132us/step - loss: 0.3334 - acc: 0.8554 - val_loss: 0.3057 - val_acc: 0.8852\n",
      "Epoch 82/170\n",
      "242/242 [==============================] - 0s 115us/step - loss: 0.2935 - acc: 0.8636 - val_loss: 0.3047 - val_acc: 0.8852\n",
      "Epoch 83/170\n",
      "242/242 [==============================] - 0s 136us/step - loss: 0.3187 - acc: 0.8843 - val_loss: 0.3043 - val_acc: 0.9016\n",
      "Epoch 84/170\n",
      "242/242 [==============================] - 0s 161us/step - loss: 0.3065 - acc: 0.8636 - val_loss: 0.3043 - val_acc: 0.9016\n",
      "Epoch 85/170\n",
      "242/242 [==============================] - 0s 113us/step - loss: 0.3029 - acc: 0.8636 - val_loss: 0.3035 - val_acc: 0.9016\n",
      "Epoch 86/170\n",
      "242/242 [==============================] - 0s 114us/step - loss: 0.3115 - acc: 0.8678 - val_loss: 0.3029 - val_acc: 0.9016\n",
      "Epoch 87/170\n",
      "242/242 [==============================] - 0s 139us/step - loss: 0.3166 - acc: 0.8678 - val_loss: 0.3028 - val_acc: 0.9016\n",
      "Epoch 88/170\n",
      "242/242 [==============================] - 0s 137us/step - loss: 0.3319 - acc: 0.8430 - val_loss: 0.3028 - val_acc: 0.9016\n",
      "Epoch 89/170\n",
      "242/242 [==============================] - 0s 103us/step - loss: 0.3101 - acc: 0.8802 - val_loss: 0.3020 - val_acc: 0.9016\n",
      "Epoch 90/170\n",
      "242/242 [==============================] - 0s 136us/step - loss: 0.3045 - acc: 0.8760 - val_loss: 0.3038 - val_acc: 0.9016\n",
      "Epoch 91/170\n",
      "242/242 [==============================] - 0s 144us/step - loss: 0.3080 - acc: 0.8760 - val_loss: 0.3036 - val_acc: 0.9016\n",
      "Epoch 92/170\n",
      "242/242 [==============================] - 0s 130us/step - loss: 0.3058 - acc: 0.8802 - val_loss: 0.3025 - val_acc: 0.9016\n",
      "Epoch 93/170\n",
      "242/242 [==============================] - 0s 181us/step - loss: 0.2923 - acc: 0.8884 - val_loss: 0.3020 - val_acc: 0.9016\n",
      "Epoch 94/170\n",
      "242/242 [==============================] - 0s 124us/step - loss: 0.2867 - acc: 0.9050 - val_loss: 0.3014 - val_acc: 0.9016\n",
      "Epoch 95/170\n",
      "242/242 [==============================] - 0s 137us/step - loss: 0.3008 - acc: 0.8719 - val_loss: 0.3014 - val_acc: 0.9016\n",
      "Epoch 96/170\n",
      "242/242 [==============================] - 0s 154us/step - loss: 0.3017 - acc: 0.8843 - val_loss: 0.3013 - val_acc: 0.9016\n",
      "Epoch 97/170\n",
      "242/242 [==============================] - 0s 137us/step - loss: 0.2974 - acc: 0.8926 - val_loss: 0.3006 - val_acc: 0.9016\n",
      "Epoch 98/170\n",
      "242/242 [==============================] - 0s 133us/step - loss: 0.2964 - acc: 0.8884 - val_loss: 0.3007 - val_acc: 0.9016\n",
      "Epoch 99/170\n",
      "242/242 [==============================] - 0s 131us/step - loss: 0.2975 - acc: 0.8843 - val_loss: 0.3007 - val_acc: 0.8852\n",
      "Epoch 100/170\n",
      "242/242 [==============================] - 0s 125us/step - loss: 0.2967 - acc: 0.8802 - val_loss: 0.3003 - val_acc: 0.8852\n",
      "Epoch 101/170\n",
      "242/242 [==============================] - 0s 141us/step - loss: 0.3024 - acc: 0.8719 - val_loss: 0.3001 - val_acc: 0.8852\n",
      "Epoch 102/170\n",
      "242/242 [==============================] - 0s 116us/step - loss: 0.2961 - acc: 0.8802 - val_loss: 0.2994 - val_acc: 0.8852\n",
      "Epoch 103/170\n",
      "242/242 [==============================] - 0s 121us/step - loss: 0.2937 - acc: 0.8678 - val_loss: 0.2989 - val_acc: 0.8852\n",
      "Epoch 104/170\n",
      "242/242 [==============================] - 0s 161us/step - loss: 0.2978 - acc: 0.8843 - val_loss: 0.2994 - val_acc: 0.8852\n",
      "Epoch 105/170\n",
      "242/242 [==============================] - 0s 127us/step - loss: 0.2929 - acc: 0.8678 - val_loss: 0.2987 - val_acc: 0.8852\n",
      "Epoch 106/170\n",
      "242/242 [==============================] - 0s 160us/step - loss: 0.2725 - acc: 0.8967 - val_loss: 0.2989 - val_acc: 0.8852\n",
      "Epoch 107/170\n",
      "242/242 [==============================] - 0s 156us/step - loss: 0.2876 - acc: 0.8760 - val_loss: 0.2990 - val_acc: 0.8852\n",
      "Epoch 108/170\n",
      "242/242 [==============================] - 0s 220us/step - loss: 0.2819 - acc: 0.8802 - val_loss: 0.2993 - val_acc: 0.8852\n",
      "Epoch 109/170\n",
      "242/242 [==============================] - 0s 178us/step - loss: 0.2838 - acc: 0.9008 - val_loss: 0.2998 - val_acc: 0.8852\n",
      "Epoch 110/170\n",
      "242/242 [==============================] - 0s 164us/step - loss: 0.2889 - acc: 0.8719 - val_loss: 0.3010 - val_acc: 0.8852\n",
      "Epoch 111/170\n",
      "242/242 [==============================] - 0s 163us/step - loss: 0.2687 - acc: 0.8884 - val_loss: 0.3014 - val_acc: 0.8852\n",
      "Epoch 112/170\n",
      "242/242 [==============================] - 0s 169us/step - loss: 0.2693 - acc: 0.8884 - val_loss: 0.3011 - val_acc: 0.8852\n",
      "Epoch 113/170\n",
      "242/242 [==============================] - 0s 174us/step - loss: 0.2927 - acc: 0.9008 - val_loss: 0.3018 - val_acc: 0.8852\n",
      "Epoch 114/170\n",
      "242/242 [==============================] - 0s 203us/step - loss: 0.2859 - acc: 0.8843 - val_loss: 0.3025 - val_acc: 0.8852\n",
      "Epoch 115/170\n",
      "242/242 [==============================] - 0s 191us/step - loss: 0.2713 - acc: 0.8926 - val_loss: 0.3037 - val_acc: 0.8852\n",
      "Epoch 116/170\n",
      "242/242 [==============================] - 0s 178us/step - loss: 0.2764 - acc: 0.8884 - val_loss: 0.3035 - val_acc: 0.8852\n",
      "Epoch 117/170\n",
      "242/242 [==============================] - 0s 190us/step - loss: 0.2818 - acc: 0.8926 - val_loss: 0.3036 - val_acc: 0.8852\n",
      "Epoch 118/170\n",
      "242/242 [==============================] - 0s 187us/step - loss: 0.2751 - acc: 0.8636 - val_loss: 0.3028 - val_acc: 0.8852\n",
      "Epoch 119/170\n",
      "242/242 [==============================] - 0s 176us/step - loss: 0.2766 - acc: 0.8884 - val_loss: 0.3028 - val_acc: 0.8852\n",
      "Epoch 120/170\n",
      "242/242 [==============================] - 0s 126us/step - loss: 0.2701 - acc: 0.8926 - val_loss: 0.3021 - val_acc: 0.8852\n",
      "Epoch 121/170\n"
     ]
    },
    {
     "name": "stdout",
     "output_type": "stream",
     "text": [
      "242/242 [==============================] - 0s 183us/step - loss: 0.2753 - acc: 0.8926 - val_loss: 0.3028 - val_acc: 0.8852\n",
      "Epoch 122/170\n",
      "242/242 [==============================] - 0s 150us/step - loss: 0.2569 - acc: 0.9008 - val_loss: 0.3020 - val_acc: 0.8852\n",
      "Epoch 123/170\n",
      "242/242 [==============================] - 0s 142us/step - loss: 0.2699 - acc: 0.8926 - val_loss: 0.3018 - val_acc: 0.8852\n",
      "Epoch 124/170\n",
      "242/242 [==============================] - 0s 137us/step - loss: 0.2638 - acc: 0.8967 - val_loss: 0.3028 - val_acc: 0.8852\n",
      "Epoch 125/170\n",
      "242/242 [==============================] - 0s 156us/step - loss: 0.2432 - acc: 0.9050 - val_loss: 0.3038 - val_acc: 0.8852\n",
      "Epoch 126/170\n",
      "242/242 [==============================] - 0s 124us/step - loss: 0.2547 - acc: 0.9050 - val_loss: 0.3043 - val_acc: 0.8852\n",
      "Epoch 127/170\n",
      "242/242 [==============================] - 0s 149us/step - loss: 0.2718 - acc: 0.8967 - val_loss: 0.3049 - val_acc: 0.8852\n",
      "Epoch 128/170\n",
      "242/242 [==============================] - 0s 143us/step - loss: 0.2789 - acc: 0.8926 - val_loss: 0.3050 - val_acc: 0.8852\n",
      "Epoch 129/170\n",
      "242/242 [==============================] - 0s 147us/step - loss: 0.2639 - acc: 0.8884 - val_loss: 0.3047 - val_acc: 0.8852\n",
      "Epoch 130/170\n",
      "242/242 [==============================] - 0s 153us/step - loss: 0.2598 - acc: 0.8884 - val_loss: 0.3050 - val_acc: 0.8852\n",
      "Epoch 131/170\n",
      "242/242 [==============================] - 0s 130us/step - loss: 0.2709 - acc: 0.8926 - val_loss: 0.3058 - val_acc: 0.8852\n",
      "Epoch 132/170\n",
      "242/242 [==============================] - 0s 157us/step - loss: 0.2692 - acc: 0.8926 - val_loss: 0.3068 - val_acc: 0.8852\n",
      "Epoch 133/170\n",
      "242/242 [==============================] - 0s 142us/step - loss: 0.2777 - acc: 0.8967 - val_loss: 0.3075 - val_acc: 0.8852\n",
      "Epoch 134/170\n",
      "242/242 [==============================] - 0s 146us/step - loss: 0.2534 - acc: 0.9050 - val_loss: 0.3090 - val_acc: 0.8852\n",
      "Epoch 135/170\n",
      "242/242 [==============================] - 0s 176us/step - loss: 0.2663 - acc: 0.8843 - val_loss: 0.3092 - val_acc: 0.8852\n",
      "Epoch 136/170\n",
      "242/242 [==============================] - 0s 149us/step - loss: 0.2518 - acc: 0.9132 - val_loss: 0.3100 - val_acc: 0.8852\n",
      "Epoch 137/170\n",
      "242/242 [==============================] - 0s 145us/step - loss: 0.2543 - acc: 0.9008 - val_loss: 0.3110 - val_acc: 0.8852\n",
      "Epoch 138/170\n",
      "242/242 [==============================] - 0s 178us/step - loss: 0.2557 - acc: 0.8926 - val_loss: 0.3118 - val_acc: 0.8852\n",
      "Epoch 139/170\n",
      "242/242 [==============================] - 0s 147us/step - loss: 0.2410 - acc: 0.9132 - val_loss: 0.3128 - val_acc: 0.8852\n",
      "Epoch 140/170\n",
      "242/242 [==============================] - 0s 164us/step - loss: 0.2657 - acc: 0.8802 - val_loss: 0.3133 - val_acc: 0.8852\n",
      "Epoch 141/170\n",
      "242/242 [==============================] - 0s 179us/step - loss: 0.2482 - acc: 0.8926 - val_loss: 0.3133 - val_acc: 0.8852\n",
      "Epoch 142/170\n",
      "242/242 [==============================] - 0s 122us/step - loss: 0.2730 - acc: 0.9008 - val_loss: 0.3131 - val_acc: 0.8852\n",
      "Epoch 143/170\n",
      "242/242 [==============================] - 0s 129us/step - loss: 0.2196 - acc: 0.9091 - val_loss: 0.3144 - val_acc: 0.8852\n",
      "Epoch 144/170\n",
      "242/242 [==============================] - 0s 126us/step - loss: 0.2443 - acc: 0.9050 - val_loss: 0.3152 - val_acc: 0.8852\n",
      "Epoch 145/170\n",
      "242/242 [==============================] - 0s 147us/step - loss: 0.2180 - acc: 0.9256 - val_loss: 0.3160 - val_acc: 0.8852\n",
      "Epoch 146/170\n",
      "242/242 [==============================] - 0s 126us/step - loss: 0.2330 - acc: 0.8884 - val_loss: 0.3155 - val_acc: 0.8852\n",
      "Epoch 147/170\n",
      "242/242 [==============================] - 0s 151us/step - loss: 0.2373 - acc: 0.8926 - val_loss: 0.3152 - val_acc: 0.8852\n",
      "Epoch 148/170\n",
      "242/242 [==============================] - 0s 127us/step - loss: 0.2205 - acc: 0.9091 - val_loss: 0.3168 - val_acc: 0.8852\n",
      "Epoch 149/170\n",
      "242/242 [==============================] - 0s 122us/step - loss: 0.2389 - acc: 0.9050 - val_loss: 0.3198 - val_acc: 0.8852\n",
      "Epoch 150/170\n",
      "242/242 [==============================] - 0s 116us/step - loss: 0.2515 - acc: 0.9050 - val_loss: 0.3195 - val_acc: 0.8852\n",
      "Epoch 151/170\n",
      "242/242 [==============================] - 0s 127us/step - loss: 0.2378 - acc: 0.9050 - val_loss: 0.3195 - val_acc: 0.8852\n",
      "Epoch 152/170\n",
      "242/242 [==============================] - 0s 121us/step - loss: 0.2425 - acc: 0.9050 - val_loss: 0.3193 - val_acc: 0.8852\n",
      "Epoch 153/170\n",
      "242/242 [==============================] - 0s 115us/step - loss: 0.2545 - acc: 0.8843 - val_loss: 0.3179 - val_acc: 0.8852\n",
      "Epoch 154/170\n",
      "242/242 [==============================] - 0s 125us/step - loss: 0.2382 - acc: 0.9050 - val_loss: 0.3190 - val_acc: 0.8852\n",
      "Epoch 155/170\n",
      "242/242 [==============================] - 0s 128us/step - loss: 0.2383 - acc: 0.9008 - val_loss: 0.3198 - val_acc: 0.8852\n",
      "Epoch 156/170\n",
      "242/242 [==============================] - 0s 130us/step - loss: 0.2404 - acc: 0.9050 - val_loss: 0.3214 - val_acc: 0.8852\n",
      "Epoch 157/170\n",
      "242/242 [==============================] - 0s 150us/step - loss: 0.2466 - acc: 0.9050 - val_loss: 0.3218 - val_acc: 0.8852\n",
      "Epoch 158/170\n",
      "242/242 [==============================] - 0s 172us/step - loss: 0.2175 - acc: 0.9256 - val_loss: 0.3224 - val_acc: 0.8852\n",
      "Epoch 159/170\n",
      "242/242 [==============================] - 0s 144us/step - loss: 0.2471 - acc: 0.9050 - val_loss: 0.3213 - val_acc: 0.8852\n",
      "Epoch 160/170\n",
      "242/242 [==============================] - 0s 176us/step - loss: 0.2206 - acc: 0.9050 - val_loss: 0.3225 - val_acc: 0.8852\n",
      "Epoch 161/170\n",
      "242/242 [==============================] - 0s 159us/step - loss: 0.2184 - acc: 0.9132 - val_loss: 0.3220 - val_acc: 0.8852\n",
      "Epoch 162/170\n",
      "242/242 [==============================] - 0s 181us/step - loss: 0.2317 - acc: 0.9008 - val_loss: 0.3229 - val_acc: 0.8852\n",
      "Epoch 163/170\n",
      "242/242 [==============================] - 0s 179us/step - loss: 0.2358 - acc: 0.9008 - val_loss: 0.3245 - val_acc: 0.8852\n",
      "Epoch 164/170\n",
      "242/242 [==============================] - 0s 154us/step - loss: 0.2053 - acc: 0.9256 - val_loss: 0.3246 - val_acc: 0.8852\n",
      "Epoch 165/170\n",
      "242/242 [==============================] - 0s 172us/step - loss: 0.2221 - acc: 0.9174 - val_loss: 0.3261 - val_acc: 0.8852\n",
      "Epoch 166/170\n",
      "242/242 [==============================] - 0s 128us/step - loss: 0.2123 - acc: 0.9132 - val_loss: 0.3298 - val_acc: 0.8852\n",
      "Epoch 167/170\n",
      "242/242 [==============================] - 0s 148us/step - loss: 0.2137 - acc: 0.9174 - val_loss: 0.3305 - val_acc: 0.8852\n",
      "Epoch 168/170\n",
      "242/242 [==============================] - 0s 147us/step - loss: 0.2138 - acc: 0.9298 - val_loss: 0.3292 - val_acc: 0.8852\n",
      "Epoch 169/170\n",
      "242/242 [==============================] - 0s 150us/step - loss: 0.2156 - acc: 0.9174 - val_loss: 0.3293 - val_acc: 0.8852\n",
      "Epoch 170/170\n",
      "242/242 [==============================] - 0s 133us/step - loss: 0.1985 - acc: 0.9256 - val_loss: 0.3306 - val_acc: 0.8852\n"
     ]
    }
   ],
   "source": [
    "# fit the model to the training data\n",
    "history= classifier.fit(X_train,Y_train,epochs=170,validation_data=(X_test, Y_test)) #"
   ]
  },
  {
   "cell_type": "code",
   "execution_count": 16,
   "metadata": {},
   "outputs": [
    {
     "data": {
      "text/plain": [
       "<keras.callbacks.History at 0x7f6c697d0ba8>"
      ]
     },
     "execution_count": 16,
     "metadata": {},
     "output_type": "execute_result"
    }
   ],
   "source": [
    "history"
   ]
  },
  {
   "cell_type": "code",
   "execution_count": 17,
   "metadata": {},
   "outputs": [],
   "source": [
    "Y_pred_nn = classifier.predict(X_test)"
   ]
  },
  {
   "cell_type": "code",
   "execution_count": 18,
   "metadata": {},
   "outputs": [],
   "source": [
    "rounded = [round(x[0]) for x in Y_pred_nn]\n",
    "Y_pred_nn = rounded\n"
   ]
  },
  {
   "cell_type": "code",
   "execution_count": 19,
   "metadata": {},
   "outputs": [
    {
     "name": "stdout",
     "output_type": "stream",
     "text": [
      "61/61 [==============================] - 0s 193us/step\n"
     ]
    },
    {
     "data": {
      "text/plain": [
       "[0.3305570683518394, 0.8852459035935949]"
      ]
     },
     "execution_count": 19,
     "metadata": {},
     "output_type": "execute_result"
    }
   ],
   "source": [
    "classifier.evaluate(X_test,Y_test)"
   ]
  },
  {
   "cell_type": "code",
   "execution_count": 20,
   "metadata": {},
   "outputs": [
    {
     "name": "stdout",
     "output_type": "stream",
     "text": [
      "The accuracy score achieved using Neural Network is: 88.52 %\n"
     ]
    }
   ],
   "source": [
    "from sklearn.metrics import accuracy_score\n",
    "score_nn = round(accuracy_score(Y_pred_nn,Y_test)*100,2)\n",
    "print(\"The accuracy score achieved using Neural Network is: \"+str(score_nn)+\" %\")"
   ]
  },
  {
   "cell_type": "code",
   "execution_count": 21,
   "metadata": {},
   "outputs": [
    {
     "data": {
      "text/plain": [
       "dict_keys(['val_loss', 'val_acc', 'loss', 'acc'])"
      ]
     },
     "execution_count": 21,
     "metadata": {},
     "output_type": "execute_result"
    }
   ],
   "source": [
    "\n",
    "history_dict = history.history\n",
    "history_dict.keys()"
   ]
  },
  {
   "cell_type": "code",
   "execution_count": 22,
   "metadata": {},
   "outputs": [
    {
     "data": {
      "image/png": "[encoded data removed]",
      "text/plain": [
       "<Figure size 432x288 with 1 Axes>"
      ]
     },
     "metadata": {},
     "output_type": "display_data"
    }
   ],
   "source": [
    "import matplotlib.pyplot as plt\n",
    "\n",
    "loss_values = history_dict['loss']\n",
    "val_loss_values = history_dict['val_loss']\n",
    "epochs = range(1, len(loss_values) + 1)\n",
    "\n",
    "# \"bo\" is for \"blue dot\"\n",
    "plt.plot(epochs, loss_values, 'bo')\n",
    "# b+ is for \"blue crosses\"\n",
    "plt.plot(epochs, val_loss_values, 'b+')\n",
    "plt.xlabel('Epochs')\n",
    "plt.ylabel('Loss')\n",
    "\n",
    "plt.show()"
   ]
  },
  {
   "cell_type": "code",
   "execution_count": 23,
   "metadata": {},
   "outputs": [
    {
     "name": "stdout",
     "output_type": "stream",
     "text": [
      "[[25  5]\n",
      " [ 2 29]]\n"
     ]
    },
    {
     "data": {
      "text/plain": [
       "Text(0.5, 1.0, 'Accuracy Score: 88.52')"
      ]
     },
     "execution_count": 23,
     "metadata": {},
     "output_type": "execute_result"
    },
    {
     "data": {
      "image/png": "[encoded data removed]",
      "text/plain": [
       "<Figure size 576x576 with 2 Axes>"
      ]
     },
     "metadata": {},
     "output_type": "display_data"
    }
   ],
   "source": [
    "\n",
    "import matplotlib.pyplot as plt\n",
    "import seaborn as sns\n",
    "from sklearn import metrics\n",
    "\n",
    "cm = metrics.confusion_matrix(Y_test, Y_pred_nn)\n",
    "print(cm)\n",
    "plt.figure(figsize=(8,8))\n",
    "sns.heatmap(cm, annot=True, fmt=\".3f\", linewidths=.5, square = True, cmap = 'Blues_r');\n",
    "plt.ylabel('Actual label')\n",
    "plt.xlabel('Predicted label')\n",
    "all_sample_title = 'Accuracy Score: {0}'.format(score_nn)\n",
    "plt.title(all_sample_title, size = 15)"
   ]
  },
  {
   "cell_type": "code",
   "execution_count": 24,
   "metadata": {},
   "outputs": [
    {
     "name": "stdout",
     "output_type": "stream",
     "text": [
      "              precision    recall  f1-score   support\n",
      "\n",
      "           0       0.93      0.83      0.88        30\n",
      "           1       0.85      0.94      0.89        31\n",
      "\n",
      "    accuracy                           0.89        61\n",
      "   macro avg       0.89      0.88      0.88        61\n",
      "weighted avg       0.89      0.89      0.88        61\n",
      "\n"
     ]
    }
   ],
   "source": [
    "print(metrics.classification_report(Y_test, Y_pred_nn))"
   ]
  },
  {
   "cell_type": "code",
   "execution_count": 25,
   "metadata": {},
   "outputs": [
    {
     "name": "stdout",
     "output_type": "stream",
     "text": [
      "_________________________________________________________________\n",
      "Layer (type)                 Output Shape              Param #   \n",
      "=================================================================\n",
      "conv1d_1 (Conv1D)            (None, 12, 64)            192       \n",
      "_________________________________________________________________\n",
      "flatten_1 (Flatten)          (None, 768)               0         \n",
      "_________________________________________________________________\n",
      "dense_4 (Dense)              (None, 64)                49216     \n",
      "_________________________________________________________________\n",
      "dropout_2 (Dropout)          (None, 64)                0         \n",
      "_________________________________________________________________\n",
      "dense_5 (Dense)              (None, 1)                 65        \n",
      "=================================================================\n",
      "Total params: 49,473\n",
      "Trainable params: 49,473\n",
      "Non-trainable params: 0\n",
      "_________________________________________________________________\n"
     ]
    }
   ],
   "source": [
    "from keras.layers import Flatten, Dense, Dropout\n",
    "from keras.layers import Conv1D, MaxPool1D\n",
    "epochs = 50\n",
    "model = Sequential()\n",
    "model.add(Conv1D(filters=64, kernel_size=2, activation='relu', input_shape = (13,1)))\n",
    "model.add(Flatten())\n",
    "model.add(Dense(64, activation='relu'))\n",
    "model.add(Dropout(0.5))\n",
    "\n",
    "model.add(Dense(1, activation='sigmoid'))\n",
    "model.summary()"
   ]
  },
  {
   "cell_type": "code",
   "execution_count": 26,
   "metadata": {},
   "outputs": [],
   "source": [
    "from keras.optimizers import Adam\n",
    "model.compile(optimizer=Adam(lr=0.00005), loss = 'binary_crossentropy', metrics=['accuracy'])"
   ]
  },
  {
   "cell_type": "code",
   "execution_count": 27,
   "metadata": {},
   "outputs": [
    {
     "data": {
      "text/plain": [
       "((242, 13), (61, 13))"
      ]
     },
     "execution_count": 27,
     "metadata": {},
     "output_type": "execute_result"
    }
   ],
   "source": [
    "X_train.shape , X_test.shape"
   ]
  },
  {
   "cell_type": "code",
   "execution_count": 28,
   "metadata": {},
   "outputs": [
    {
     "name": "stdout",
     "output_type": "stream",
     "text": [
      "Train on 242 samples, validate on 61 samples\n",
      "Epoch 1/200\n",
      "242/242 [==============================] - 1s 2ms/step - loss: 0.7091 - acc: 0.4504 - val_loss: 0.7216 - val_acc: 0.3443\n",
      "Epoch 2/200\n",
      "242/242 [==============================] - 0s 374us/step - loss: 0.7191 - acc: 0.4463 - val_loss: 0.7079 - val_acc: 0.4426\n",
      "Epoch 3/200\n",
      "242/242 [==============================] - 0s 277us/step - loss: 0.6982 - acc: 0.4835 - val_loss: 0.6947 - val_acc: 0.5410\n",
      "Epoch 4/200\n",
      "242/242 [==============================] - 0s 390us/step - loss: 0.6872 - acc: 0.5661 - val_loss: 0.6821 - val_acc: 0.5902\n",
      "Epoch 5/200\n",
      "242/242 [==============================] - 0s 249us/step - loss: 0.6779 - acc: 0.5868 - val_loss: 0.6700 - val_acc: 0.6230\n",
      "Epoch 6/200\n",
      "242/242 [==============================] - 0s 316us/step - loss: 0.6495 - acc: 0.6818 - val_loss: 0.6579 - val_acc: 0.7049\n",
      "Epoch 7/200\n",
      "242/242 [==============================] - 0s 378us/step - loss: 0.6395 - acc: 0.6901 - val_loss: 0.6467 - val_acc: 0.7213\n",
      "Epoch 8/200\n",
      "242/242 [==============================] - 0s 260us/step - loss: 0.6494 - acc: 0.6901 - val_loss: 0.6356 - val_acc: 0.7541\n",
      "Epoch 9/200\n",
      "242/242 [==============================] - 0s 273us/step - loss: 0.6276 - acc: 0.7397 - val_loss: 0.6248 - val_acc: 0.7541\n",
      "Epoch 10/200\n",
      "242/242 [==============================] - 0s 396us/step - loss: 0.6219 - acc: 0.7438 - val_loss: 0.6142 - val_acc: 0.7541\n",
      "Epoch 11/200\n",
      "242/242 [==============================] - 0s 331us/step - loss: 0.5982 - acc: 0.7727 - val_loss: 0.6035 - val_acc: 0.7541\n",
      "Epoch 12/200\n",
      "242/242 [==============================] - 0s 387us/step - loss: 0.6017 - acc: 0.7355 - val_loss: 0.5936 - val_acc: 0.7541\n",
      "Epoch 13/200\n",
      "242/242 [==============================] - 0s 316us/step - loss: 0.5924 - acc: 0.7479 - val_loss: 0.5833 - val_acc: 0.7705\n",
      "Epoch 14/200\n",
      "242/242 [==============================] - 0s 425us/step - loss: 0.5781 - acc: 0.7851 - val_loss: 0.5740 - val_acc: 0.7869\n",
      "Epoch 15/200\n",
      "242/242 [==============================] - 0s 398us/step - loss: 0.5764 - acc: 0.7686 - val_loss: 0.5643 - val_acc: 0.7869\n",
      "Epoch 16/200\n",
      "242/242 [==============================] - 0s 295us/step - loss: 0.5695 - acc: 0.7645 - val_loss: 0.5549 - val_acc: 0.7869\n",
      "Epoch 17/200\n",
      "242/242 [==============================] - 0s 250us/step - loss: 0.5513 - acc: 0.8140 - val_loss: 0.5457 - val_acc: 0.7869\n",
      "Epoch 18/200\n",
      "242/242 [==============================] - 0s 277us/step - loss: 0.5504 - acc: 0.8017 - val_loss: 0.5368 - val_acc: 0.7869\n",
      "Epoch 19/200\n",
      "242/242 [==============================] - 0s 278us/step - loss: 0.5341 - acc: 0.7893 - val_loss: 0.5279 - val_acc: 0.7869\n",
      "Epoch 20/200\n",
      "242/242 [==============================] - 0s 349us/step - loss: 0.5265 - acc: 0.8140 - val_loss: 0.5203 - val_acc: 0.7869\n",
      "Epoch 21/200\n",
      "242/242 [==============================] - 0s 446us/step - loss: 0.5243 - acc: 0.8182 - val_loss: 0.5125 - val_acc: 0.8197\n",
      "Epoch 22/200\n",
      "242/242 [==============================] - 0s 348us/step - loss: 0.5153 - acc: 0.7893 - val_loss: 0.5049 - val_acc: 0.8197\n",
      "Epoch 23/200\n",
      "242/242 [==============================] - 0s 344us/step - loss: 0.5195 - acc: 0.7521 - val_loss: 0.4978 - val_acc: 0.8197\n",
      "Epoch 24/200\n",
      "242/242 [==============================] - 0s 264us/step - loss: 0.4989 - acc: 0.8223 - val_loss: 0.4907 - val_acc: 0.8361\n",
      "Epoch 25/200\n",
      "242/242 [==============================] - 0s 397us/step - loss: 0.5037 - acc: 0.7893 - val_loss: 0.4841 - val_acc: 0.8361\n",
      "Epoch 26/200\n",
      "242/242 [==============================] - 0s 273us/step - loss: 0.5106 - acc: 0.7934 - val_loss: 0.4771 - val_acc: 0.8361\n",
      "Epoch 27/200\n",
      "242/242 [==============================] - 0s 337us/step - loss: 0.4938 - acc: 0.8099 - val_loss: 0.4704 - val_acc: 0.8361\n",
      "Epoch 28/200\n",
      "242/242 [==============================] - 0s 401us/step - loss: 0.4789 - acc: 0.8306 - val_loss: 0.4639 - val_acc: 0.8361\n",
      "Epoch 29/200\n",
      "242/242 [==============================] - 0s 440us/step - loss: 0.4838 - acc: 0.8223 - val_loss: 0.4579 - val_acc: 0.8361\n",
      "Epoch 30/200\n",
      "242/242 [==============================] - 0s 421us/step - loss: 0.4850 - acc: 0.8140 - val_loss: 0.4521 - val_acc: 0.8361\n",
      "Epoch 31/200\n",
      "242/242 [==============================] - 0s 481us/step - loss: 0.4698 - acc: 0.7769 - val_loss: 0.4465 - val_acc: 0.8525\n",
      "Epoch 32/200\n",
      "242/242 [==============================] - 0s 329us/step - loss: 0.4626 - acc: 0.8140 - val_loss: 0.4407 - val_acc: 0.8525\n",
      "Epoch 33/200\n",
      "242/242 [==============================] - 0s 413us/step - loss: 0.4584 - acc: 0.8017 - val_loss: 0.4354 - val_acc: 0.8525\n",
      "Epoch 34/200\n",
      "242/242 [==============================] - 0s 441us/step - loss: 0.4478 - acc: 0.8182 - val_loss: 0.4305 - val_acc: 0.8525\n",
      "Epoch 35/200\n",
      "242/242 [==============================] - 0s 432us/step - loss: 0.4596 - acc: 0.7893 - val_loss: 0.4260 - val_acc: 0.8525\n",
      "Epoch 36/200\n",
      "242/242 [==============================] - 0s 381us/step - loss: 0.4568 - acc: 0.7934 - val_loss: 0.4216 - val_acc: 0.8525\n",
      "Epoch 37/200\n",
      "242/242 [==============================] - 0s 383us/step - loss: 0.4360 - acc: 0.8347 - val_loss: 0.4169 - val_acc: 0.8525\n",
      "Epoch 38/200\n",
      "242/242 [==============================] - 0s 422us/step - loss: 0.4465 - acc: 0.8223 - val_loss: 0.4126 - val_acc: 0.8525\n",
      "Epoch 39/200\n",
      "242/242 [==============================] - 0s 385us/step - loss: 0.4416 - acc: 0.8058 - val_loss: 0.4083 - val_acc: 0.8525\n",
      "Epoch 40/200\n",
      "242/242 [==============================] - 0s 234us/step - loss: 0.4277 - acc: 0.8182 - val_loss: 0.4048 - val_acc: 0.8689\n",
      "Epoch 41/200\n",
      "242/242 [==============================] - 0s 252us/step - loss: 0.4391 - acc: 0.8388 - val_loss: 0.4006 - val_acc: 0.8689\n",
      "Epoch 42/200\n",
      "242/242 [==============================] - 0s 208us/step - loss: 0.4323 - acc: 0.8017 - val_loss: 0.3970 - val_acc: 0.8689\n",
      "Epoch 43/200\n",
      "242/242 [==============================] - 0s 241us/step - loss: 0.4345 - acc: 0.8058 - val_loss: 0.3933 - val_acc: 0.8689\n",
      "Epoch 44/200\n",
      "242/242 [==============================] - 0s 208us/step - loss: 0.4340 - acc: 0.8017 - val_loss: 0.3898 - val_acc: 0.8689\n",
      "Epoch 45/200\n",
      "242/242 [==============================] - 0s 215us/step - loss: 0.4287 - acc: 0.8223 - val_loss: 0.3868 - val_acc: 0.8689\n",
      "Epoch 46/200\n",
      "242/242 [==============================] - 0s 221us/step - loss: 0.4340 - acc: 0.7893 - val_loss: 0.3841 - val_acc: 0.8689\n",
      "Epoch 47/200\n",
      "242/242 [==============================] - 0s 277us/step - loss: 0.4232 - acc: 0.8223 - val_loss: 0.3817 - val_acc: 0.8689\n",
      "Epoch 48/200\n",
      "242/242 [==============================] - 0s 286us/step - loss: 0.4310 - acc: 0.8099 - val_loss: 0.3790 - val_acc: 0.8689\n",
      "Epoch 49/200\n",
      "242/242 [==============================] - 0s 245us/step - loss: 0.4144 - acc: 0.8264 - val_loss: 0.3763 - val_acc: 0.8689\n",
      "Epoch 50/200\n",
      "242/242 [==============================] - 0s 255us/step - loss: 0.4307 - acc: 0.8182 - val_loss: 0.3739 - val_acc: 0.8689\n",
      "Epoch 51/200\n",
      "242/242 [==============================] - 0s 254us/step - loss: 0.4144 - acc: 0.8223 - val_loss: 0.3709 - val_acc: 0.8689\n",
      "Epoch 52/200\n",
      "242/242 [==============================] - 0s 248us/step - loss: 0.4055 - acc: 0.8347 - val_loss: 0.3688 - val_acc: 0.8689\n",
      "Epoch 53/200\n",
      "242/242 [==============================] - 0s 253us/step - loss: 0.4100 - acc: 0.8264 - val_loss: 0.3666 - val_acc: 0.8689\n",
      "Epoch 54/200\n",
      "242/242 [==============================] - 0s 266us/step - loss: 0.3940 - acc: 0.8388 - val_loss: 0.3645 - val_acc: 0.8689\n",
      "Epoch 55/200\n",
      "242/242 [==============================] - 0s 273us/step - loss: 0.4066 - acc: 0.8140 - val_loss: 0.3628 - val_acc: 0.8689\n",
      "Epoch 56/200\n",
      "242/242 [==============================] - 0s 396us/step - loss: 0.4109 - acc: 0.8264 - val_loss: 0.3611 - val_acc: 0.8689\n",
      "Epoch 57/200\n",
      "242/242 [==============================] - 0s 321us/step - loss: 0.3965 - acc: 0.8058 - val_loss: 0.3597 - val_acc: 0.8689\n",
      "Epoch 58/200\n",
      "242/242 [==============================] - 0s 287us/step - loss: 0.4018 - acc: 0.8264 - val_loss: 0.3583 - val_acc: 0.8689\n",
      "Epoch 59/200\n",
      "242/242 [==============================] - 0s 318us/step - loss: 0.4008 - acc: 0.8182 - val_loss: 0.3564 - val_acc: 0.8689\n",
      "Epoch 60/200\n",
      "242/242 [==============================] - 0s 285us/step - loss: 0.3907 - acc: 0.8388 - val_loss: 0.3544 - val_acc: 0.8689\n"
     ]
    },
    {
     "name": "stdout",
     "output_type": "stream",
     "text": [
      "Epoch 61/200\n",
      "242/242 [==============================] - 0s 208us/step - loss: 0.3946 - acc: 0.8347 - val_loss: 0.3523 - val_acc: 0.8689\n",
      "Epoch 62/200\n",
      "242/242 [==============================] - 0s 196us/step - loss: 0.3769 - acc: 0.8430 - val_loss: 0.3506 - val_acc: 0.8689\n",
      "Epoch 63/200\n",
      "242/242 [==============================] - 0s 196us/step - loss: 0.3877 - acc: 0.8264 - val_loss: 0.3493 - val_acc: 0.8689\n",
      "Epoch 64/200\n",
      "242/242 [==============================] - 0s 225us/step - loss: 0.3795 - acc: 0.8388 - val_loss: 0.3477 - val_acc: 0.8689\n",
      "Epoch 65/200\n",
      "242/242 [==============================] - 0s 236us/step - loss: 0.3972 - acc: 0.8223 - val_loss: 0.3465 - val_acc: 0.8689\n",
      "Epoch 66/200\n",
      "242/242 [==============================] - 0s 229us/step - loss: 0.3861 - acc: 0.8388 - val_loss: 0.3459 - val_acc: 0.8689\n",
      "Epoch 67/200\n",
      "242/242 [==============================] - 0s 333us/step - loss: 0.3956 - acc: 0.8471 - val_loss: 0.3446 - val_acc: 0.8689\n",
      "Epoch 68/200\n",
      "242/242 [==============================] - 0s 248us/step - loss: 0.3719 - acc: 0.8554 - val_loss: 0.3440 - val_acc: 0.8689\n",
      "Epoch 69/200\n",
      "242/242 [==============================] - 0s 225us/step - loss: 0.3871 - acc: 0.8140 - val_loss: 0.3429 - val_acc: 0.8689\n",
      "Epoch 70/200\n",
      "242/242 [==============================] - 0s 204us/step - loss: 0.3853 - acc: 0.8099 - val_loss: 0.3426 - val_acc: 0.8689\n",
      "Epoch 71/200\n",
      "242/242 [==============================] - 0s 205us/step - loss: 0.3816 - acc: 0.8306 - val_loss: 0.3415 - val_acc: 0.8689\n",
      "Epoch 72/200\n",
      "242/242 [==============================] - 0s 222us/step - loss: 0.3816 - acc: 0.8264 - val_loss: 0.3407 - val_acc: 0.8689\n",
      "Epoch 73/200\n",
      "242/242 [==============================] - 0s 191us/step - loss: 0.3904 - acc: 0.8430 - val_loss: 0.3399 - val_acc: 0.8689\n",
      "Epoch 74/200\n",
      "242/242 [==============================] - 0s 203us/step - loss: 0.3807 - acc: 0.8264 - val_loss: 0.3393 - val_acc: 0.8689\n",
      "Epoch 75/200\n",
      "242/242 [==============================] - 0s 242us/step - loss: 0.3722 - acc: 0.8264 - val_loss: 0.3382 - val_acc: 0.8689\n",
      "Epoch 76/200\n",
      "242/242 [==============================] - 0s 212us/step - loss: 0.3880 - acc: 0.8388 - val_loss: 0.3371 - val_acc: 0.8689\n",
      "Epoch 77/200\n",
      "242/242 [==============================] - 0s 220us/step - loss: 0.3808 - acc: 0.8182 - val_loss: 0.3366 - val_acc: 0.8689\n",
      "Epoch 78/200\n",
      "242/242 [==============================] - 0s 198us/step - loss: 0.3639 - acc: 0.8512 - val_loss: 0.3353 - val_acc: 0.8689\n",
      "Epoch 79/200\n",
      "242/242 [==============================] - 0s 217us/step - loss: 0.3806 - acc: 0.8264 - val_loss: 0.3350 - val_acc: 0.8689\n",
      "Epoch 80/200\n",
      "242/242 [==============================] - 0s 229us/step - loss: 0.3656 - acc: 0.8388 - val_loss: 0.3347 - val_acc: 0.8689\n",
      "Epoch 81/200\n",
      "242/242 [==============================] - 0s 241us/step - loss: 0.3761 - acc: 0.8388 - val_loss: 0.3344 - val_acc: 0.8689\n",
      "Epoch 82/200\n",
      "242/242 [==============================] - 0s 247us/step - loss: 0.3880 - acc: 0.8306 - val_loss: 0.3340 - val_acc: 0.8689\n",
      "Epoch 83/200\n",
      "242/242 [==============================] - 0s 195us/step - loss: 0.3709 - acc: 0.8182 - val_loss: 0.3334 - val_acc: 0.8689\n",
      "Epoch 84/200\n",
      "242/242 [==============================] - 0s 214us/step - loss: 0.3734 - acc: 0.8223 - val_loss: 0.3324 - val_acc: 0.8689\n",
      "Epoch 85/200\n",
      "242/242 [==============================] - 0s 197us/step - loss: 0.3727 - acc: 0.8471 - val_loss: 0.3318 - val_acc: 0.8689\n",
      "Epoch 86/200\n",
      "242/242 [==============================] - 0s 196us/step - loss: 0.3815 - acc: 0.8471 - val_loss: 0.3308 - val_acc: 0.8689\n",
      "Epoch 87/200\n",
      "242/242 [==============================] - 0s 232us/step - loss: 0.3775 - acc: 0.8471 - val_loss: 0.3303 - val_acc: 0.8689\n",
      "Epoch 88/200\n",
      "242/242 [==============================] - 0s 218us/step - loss: 0.3796 - acc: 0.8306 - val_loss: 0.3303 - val_acc: 0.8689\n",
      "Epoch 89/200\n",
      "242/242 [==============================] - 0s 200us/step - loss: 0.3597 - acc: 0.8347 - val_loss: 0.3303 - val_acc: 0.8689\n",
      "Epoch 90/200\n",
      "242/242 [==============================] - 0s 228us/step - loss: 0.3617 - acc: 0.8719 - val_loss: 0.3294 - val_acc: 0.8689\n",
      "Epoch 91/200\n",
      "242/242 [==============================] - 0s 194us/step - loss: 0.3606 - acc: 0.8636 - val_loss: 0.3288 - val_acc: 0.8689\n",
      "Epoch 92/200\n",
      "242/242 [==============================] - 0s 225us/step - loss: 0.3691 - acc: 0.8182 - val_loss: 0.3279 - val_acc: 0.8689\n",
      "Epoch 93/200\n",
      "242/242 [==============================] - 0s 259us/step - loss: 0.3637 - acc: 0.8347 - val_loss: 0.3273 - val_acc: 0.8689\n",
      "Epoch 94/200\n",
      "242/242 [==============================] - 0s 224us/step - loss: 0.3412 - acc: 0.8636 - val_loss: 0.3266 - val_acc: 0.8689\n",
      "Epoch 95/200\n",
      "242/242 [==============================] - 0s 242us/step - loss: 0.3470 - acc: 0.8471 - val_loss: 0.3266 - val_acc: 0.8689\n",
      "Epoch 96/200\n",
      "242/242 [==============================] - 0s 212us/step - loss: 0.3609 - acc: 0.8512 - val_loss: 0.3257 - val_acc: 0.8689\n",
      "Epoch 97/200\n",
      "242/242 [==============================] - 0s 207us/step - loss: 0.3654 - acc: 0.8636 - val_loss: 0.3249 - val_acc: 0.8689\n",
      "Epoch 98/200\n",
      "242/242 [==============================] - 0s 234us/step - loss: 0.3635 - acc: 0.8512 - val_loss: 0.3247 - val_acc: 0.8689\n",
      "Epoch 99/200\n",
      "242/242 [==============================] - 0s 203us/step - loss: 0.3532 - acc: 0.8595 - val_loss: 0.3242 - val_acc: 0.8689\n",
      "Epoch 100/200\n",
      "242/242 [==============================] - 0s 206us/step - loss: 0.3497 - acc: 0.8595 - val_loss: 0.3237 - val_acc: 0.8689\n",
      "Epoch 101/200\n",
      "242/242 [==============================] - 0s 196us/step - loss: 0.3501 - acc: 0.8388 - val_loss: 0.3230 - val_acc: 0.8689\n",
      "Epoch 102/200\n",
      "242/242 [==============================] - 0s 228us/step - loss: 0.3578 - acc: 0.8306 - val_loss: 0.3227 - val_acc: 0.8689\n",
      "Epoch 103/200\n",
      "242/242 [==============================] - 0s 220us/step - loss: 0.3543 - acc: 0.8264 - val_loss: 0.3228 - val_acc: 0.8689\n",
      "Epoch 104/200\n",
      "242/242 [==============================] - 0s 225us/step - loss: 0.3497 - acc: 0.8595 - val_loss: 0.3235 - val_acc: 0.8689\n",
      "Epoch 105/200\n",
      "242/242 [==============================] - 0s 225us/step - loss: 0.3497 - acc: 0.8430 - val_loss: 0.3230 - val_acc: 0.8689\n",
      "Epoch 106/200\n",
      "242/242 [==============================] - 0s 253us/step - loss: 0.3452 - acc: 0.8636 - val_loss: 0.3230 - val_acc: 0.8689\n",
      "Epoch 107/200\n",
      "242/242 [==============================] - 0s 218us/step - loss: 0.3653 - acc: 0.8471 - val_loss: 0.3224 - val_acc: 0.8689\n",
      "Epoch 108/200\n",
      "242/242 [==============================] - 0s 239us/step - loss: 0.3744 - acc: 0.8430 - val_loss: 0.3218 - val_acc: 0.8689\n",
      "Epoch 109/200\n",
      "242/242 [==============================] - 0s 220us/step - loss: 0.3558 - acc: 0.8388 - val_loss: 0.3209 - val_acc: 0.8689\n",
      "Epoch 110/200\n",
      "242/242 [==============================] - 0s 247us/step - loss: 0.3566 - acc: 0.8347 - val_loss: 0.3206 - val_acc: 0.8689\n",
      "Epoch 111/200\n",
      "242/242 [==============================] - 0s 199us/step - loss: 0.3574 - acc: 0.8595 - val_loss: 0.3210 - val_acc: 0.8689\n",
      "Epoch 112/200\n",
      "242/242 [==============================] - 0s 190us/step - loss: 0.3474 - acc: 0.8306 - val_loss: 0.3210 - val_acc: 0.8689\n",
      "Epoch 113/200\n",
      "242/242 [==============================] - 0s 234us/step - loss: 0.3421 - acc: 0.8430 - val_loss: 0.3212 - val_acc: 0.8689\n",
      "Epoch 114/200\n",
      "242/242 [==============================] - 0s 412us/step - loss: 0.3699 - acc: 0.8430 - val_loss: 0.3214 - val_acc: 0.8689\n",
      "Epoch 115/200\n",
      "242/242 [==============================] - 0s 361us/step - loss: 0.3600 - acc: 0.8430 - val_loss: 0.3213 - val_acc: 0.8689\n",
      "Epoch 116/200\n",
      "242/242 [==============================] - 0s 337us/step - loss: 0.3582 - acc: 0.8388 - val_loss: 0.3202 - val_acc: 0.8689\n",
      "Epoch 117/200\n",
      "242/242 [==============================] - 0s 332us/step - loss: 0.3424 - acc: 0.8554 - val_loss: 0.3201 - val_acc: 0.8689\n",
      "Epoch 118/200\n",
      "242/242 [==============================] - 0s 394us/step - loss: 0.3622 - acc: 0.8347 - val_loss: 0.3193 - val_acc: 0.8852\n",
      "Epoch 119/200\n",
      "242/242 [==============================] - 0s 315us/step - loss: 0.3378 - acc: 0.8636 - val_loss: 0.3185 - val_acc: 0.8852\n",
      "Epoch 120/200\n",
      "242/242 [==============================] - 0s 275us/step - loss: 0.3393 - acc: 0.8554 - val_loss: 0.3183 - val_acc: 0.8852\n",
      "Epoch 121/200\n"
     ]
    },
    {
     "name": "stdout",
     "output_type": "stream",
     "text": [
      "242/242 [==============================] - 0s 258us/step - loss: 0.3463 - acc: 0.8512 - val_loss: 0.3182 - val_acc: 0.8852\n",
      "Epoch 122/200\n",
      "242/242 [==============================] - 0s 244us/step - loss: 0.3369 - acc: 0.8678 - val_loss: 0.3175 - val_acc: 0.8852\n",
      "Epoch 123/200\n",
      "242/242 [==============================] - 0s 294us/step - loss: 0.3291 - acc: 0.8636 - val_loss: 0.3172 - val_acc: 0.8852\n",
      "Epoch 124/200\n",
      "242/242 [==============================] - 0s 303us/step - loss: 0.3311 - acc: 0.8554 - val_loss: 0.3173 - val_acc: 0.8852\n",
      "Epoch 125/200\n",
      "242/242 [==============================] - 0s 310us/step - loss: 0.3486 - acc: 0.8471 - val_loss: 0.3169 - val_acc: 0.8852\n",
      "Epoch 126/200\n",
      "242/242 [==============================] - 0s 313us/step - loss: 0.3574 - acc: 0.8347 - val_loss: 0.3167 - val_acc: 0.8852\n",
      "Epoch 127/200\n",
      "242/242 [==============================] - 0s 349us/step - loss: 0.3558 - acc: 0.8471 - val_loss: 0.3164 - val_acc: 0.8852\n",
      "Epoch 128/200\n",
      "242/242 [==============================] - 0s 327us/step - loss: 0.3529 - acc: 0.8471 - val_loss: 0.3163 - val_acc: 0.8852\n",
      "Epoch 129/200\n",
      "242/242 [==============================] - 0s 345us/step - loss: 0.3595 - acc: 0.8512 - val_loss: 0.3167 - val_acc: 0.8852\n",
      "Epoch 130/200\n",
      "242/242 [==============================] - 0s 379us/step - loss: 0.3437 - acc: 0.8347 - val_loss: 0.3173 - val_acc: 0.8852\n",
      "Epoch 131/200\n",
      "242/242 [==============================] - 0s 332us/step - loss: 0.3313 - acc: 0.8554 - val_loss: 0.3170 - val_acc: 0.8852\n",
      "Epoch 132/200\n",
      "242/242 [==============================] - 0s 254us/step - loss: 0.3294 - acc: 0.8471 - val_loss: 0.3163 - val_acc: 0.8852\n",
      "Epoch 133/200\n",
      "242/242 [==============================] - 0s 215us/step - loss: 0.3465 - acc: 0.8347 - val_loss: 0.3162 - val_acc: 0.8852\n",
      "Epoch 134/200\n",
      "242/242 [==============================] - 0s 242us/step - loss: 0.3328 - acc: 0.8554 - val_loss: 0.3160 - val_acc: 0.8852\n",
      "Epoch 135/200\n",
      "242/242 [==============================] - 0s 202us/step - loss: 0.3509 - acc: 0.8347 - val_loss: 0.3157 - val_acc: 0.8852\n",
      "Epoch 136/200\n",
      "242/242 [==============================] - 0s 197us/step - loss: 0.3339 - acc: 0.8595 - val_loss: 0.3156 - val_acc: 0.8852\n",
      "Epoch 137/200\n",
      "242/242 [==============================] - 0s 216us/step - loss: 0.3486 - acc: 0.8388 - val_loss: 0.3156 - val_acc: 0.8852\n",
      "Epoch 138/200\n",
      "242/242 [==============================] - 0s 320us/step - loss: 0.3281 - acc: 0.8388 - val_loss: 0.3156 - val_acc: 0.8852\n",
      "Epoch 139/200\n",
      "242/242 [==============================] - 0s 306us/step - loss: 0.3460 - acc: 0.8471 - val_loss: 0.3159 - val_acc: 0.8852\n",
      "Epoch 140/200\n",
      "242/242 [==============================] - 0s 354us/step - loss: 0.3227 - acc: 0.8719 - val_loss: 0.3159 - val_acc: 0.8852\n",
      "Epoch 141/200\n",
      "242/242 [==============================] - 0s 329us/step - loss: 0.3208 - acc: 0.8388 - val_loss: 0.3155 - val_acc: 0.8852\n",
      "Epoch 142/200\n",
      "242/242 [==============================] - 0s 244us/step - loss: 0.3491 - acc: 0.8388 - val_loss: 0.3153 - val_acc: 0.8852\n",
      "Epoch 143/200\n",
      "242/242 [==============================] - 0s 215us/step - loss: 0.3482 - acc: 0.8347 - val_loss: 0.3153 - val_acc: 0.8852\n",
      "Epoch 144/200\n",
      "242/242 [==============================] - 0s 237us/step - loss: 0.3411 - acc: 0.8347 - val_loss: 0.3153 - val_acc: 0.8852\n",
      "Epoch 145/200\n",
      "242/242 [==============================] - 0s 200us/step - loss: 0.3288 - acc: 0.8512 - val_loss: 0.3154 - val_acc: 0.8852\n",
      "Epoch 146/200\n",
      "242/242 [==============================] - 0s 220us/step - loss: 0.3451 - acc: 0.8306 - val_loss: 0.3152 - val_acc: 0.8852\n",
      "Epoch 147/200\n",
      "242/242 [==============================] - 0s 246us/step - loss: 0.3458 - acc: 0.8388 - val_loss: 0.3147 - val_acc: 0.8852\n",
      "Epoch 148/200\n",
      "242/242 [==============================] - 0s 216us/step - loss: 0.3296 - acc: 0.8554 - val_loss: 0.3141 - val_acc: 0.8852\n",
      "Epoch 149/200\n",
      "242/242 [==============================] - 0s 235us/step - loss: 0.3405 - acc: 0.8430 - val_loss: 0.3137 - val_acc: 0.8852\n",
      "Epoch 150/200\n",
      "242/242 [==============================] - 0s 219us/step - loss: 0.3343 - acc: 0.8430 - val_loss: 0.3140 - val_acc: 0.8852\n",
      "Epoch 151/200\n",
      "242/242 [==============================] - 0s 192us/step - loss: 0.3439 - acc: 0.8347 - val_loss: 0.3144 - val_acc: 0.8852\n",
      "Epoch 152/200\n",
      "242/242 [==============================] - 0s 223us/step - loss: 0.3511 - acc: 0.8430 - val_loss: 0.3148 - val_acc: 0.8852\n",
      "Epoch 153/200\n",
      "242/242 [==============================] - 0s 259us/step - loss: 0.3314 - acc: 0.8430 - val_loss: 0.3148 - val_acc: 0.8852\n",
      "Epoch 154/200\n",
      "242/242 [==============================] - 0s 216us/step - loss: 0.3285 - acc: 0.8512 - val_loss: 0.3140 - val_acc: 0.8852\n",
      "Epoch 155/200\n",
      "242/242 [==============================] - 0s 212us/step - loss: 0.3278 - acc: 0.8678 - val_loss: 0.3136 - val_acc: 0.8852\n",
      "Epoch 156/200\n",
      "242/242 [==============================] - 0s 229us/step - loss: 0.3483 - acc: 0.8554 - val_loss: 0.3139 - val_acc: 0.8852\n",
      "Epoch 157/200\n",
      "242/242 [==============================] - 0s 203us/step - loss: 0.3123 - acc: 0.8802 - val_loss: 0.3143 - val_acc: 0.8852\n",
      "Epoch 158/200\n",
      "242/242 [==============================] - 0s 214us/step - loss: 0.3369 - acc: 0.8719 - val_loss: 0.3149 - val_acc: 0.8852\n",
      "Epoch 159/200\n",
      "242/242 [==============================] - 0s 246us/step - loss: 0.3319 - acc: 0.8430 - val_loss: 0.3147 - val_acc: 0.8852\n",
      "Epoch 160/200\n",
      "242/242 [==============================] - 0s 225us/step - loss: 0.3258 - acc: 0.8719 - val_loss: 0.3143 - val_acc: 0.8852\n",
      "Epoch 161/200\n",
      "242/242 [==============================] - 0s 242us/step - loss: 0.3335 - acc: 0.8347 - val_loss: 0.3139 - val_acc: 0.8852\n",
      "Epoch 162/200\n",
      "242/242 [==============================] - 0s 213us/step - loss: 0.3429 - acc: 0.8430 - val_loss: 0.3136 - val_acc: 0.8852\n",
      "Epoch 163/200\n",
      "242/242 [==============================] - 0s 241us/step - loss: 0.3383 - acc: 0.8471 - val_loss: 0.3136 - val_acc: 0.8852\n",
      "Epoch 164/200\n",
      "242/242 [==============================] - 0s 194us/step - loss: 0.3300 - acc: 0.8636 - val_loss: 0.3136 - val_acc: 0.8852\n",
      "Epoch 165/200\n",
      "242/242 [==============================] - 0s 262us/step - loss: 0.3235 - acc: 0.8595 - val_loss: 0.3134 - val_acc: 0.8852\n",
      "Epoch 166/200\n",
      "242/242 [==============================] - 0s 350us/step - loss: 0.3187 - acc: 0.8636 - val_loss: 0.3128 - val_acc: 0.8852\n",
      "Epoch 167/200\n",
      "242/242 [==============================] - 0s 342us/step - loss: 0.3217 - acc: 0.8595 - val_loss: 0.3127 - val_acc: 0.8852\n",
      "Epoch 168/200\n",
      "242/242 [==============================] - 0s 279us/step - loss: 0.3511 - acc: 0.8347 - val_loss: 0.3130 - val_acc: 0.8852\n",
      "Epoch 169/200\n",
      "242/242 [==============================] - 0s 249us/step - loss: 0.3082 - acc: 0.8512 - val_loss: 0.3123 - val_acc: 0.8852\n",
      "Epoch 170/200\n",
      "242/242 [==============================] - 0s 204us/step - loss: 0.3333 - acc: 0.8512 - val_loss: 0.3127 - val_acc: 0.8852\n",
      "Epoch 171/200\n",
      "242/242 [==============================] - 0s 217us/step - loss: 0.3261 - acc: 0.8347 - val_loss: 0.3126 - val_acc: 0.8852\n",
      "Epoch 172/200\n",
      "242/242 [==============================] - 0s 227us/step - loss: 0.3325 - acc: 0.8512 - val_loss: 0.3124 - val_acc: 0.8852\n",
      "Epoch 173/200\n",
      "242/242 [==============================] - 0s 225us/step - loss: 0.3319 - acc: 0.8430 - val_loss: 0.3129 - val_acc: 0.8852\n",
      "Epoch 174/200\n",
      "242/242 [==============================] - 0s 211us/step - loss: 0.3247 - acc: 0.8554 - val_loss: 0.3124 - val_acc: 0.8852\n",
      "Epoch 175/200\n",
      "242/242 [==============================] - 0s 227us/step - loss: 0.3222 - acc: 0.8678 - val_loss: 0.3121 - val_acc: 0.8852\n",
      "Epoch 176/200\n",
      "242/242 [==============================] - 0s 248us/step - loss: 0.3289 - acc: 0.8636 - val_loss: 0.3124 - val_acc: 0.8852\n",
      "Epoch 177/200\n",
      "242/242 [==============================] - 0s 201us/step - loss: 0.3287 - acc: 0.8595 - val_loss: 0.3134 - val_acc: 0.8852\n",
      "Epoch 178/200\n",
      "242/242 [==============================] - 0s 228us/step - loss: 0.3314 - acc: 0.8512 - val_loss: 0.3136 - val_acc: 0.8852\n",
      "Epoch 179/200\n",
      "242/242 [==============================] - 0s 229us/step - loss: 0.3197 - acc: 0.8554 - val_loss: 0.3133 - val_acc: 0.8852\n",
      "Epoch 180/200\n",
      "242/242 [==============================] - 0s 204us/step - loss: 0.3234 - acc: 0.8471 - val_loss: 0.3134 - val_acc: 0.8852\n"
     ]
    },
    {
     "name": "stdout",
     "output_type": "stream",
     "text": [
      "Epoch 181/200\n",
      "242/242 [==============================] - 0s 293us/step - loss: 0.3112 - acc: 0.8719 - val_loss: 0.3127 - val_acc: 0.8852\n",
      "Epoch 182/200\n",
      "242/242 [==============================] - 0s 278us/step - loss: 0.3110 - acc: 0.8719 - val_loss: 0.3129 - val_acc: 0.8852\n",
      "Epoch 183/200\n",
      "242/242 [==============================] - 0s 377us/step - loss: 0.3164 - acc: 0.8554 - val_loss: 0.3128 - val_acc: 0.8852\n",
      "Epoch 184/200\n",
      "242/242 [==============================] - 0s 338us/step - loss: 0.3138 - acc: 0.8554 - val_loss: 0.3130 - val_acc: 0.8852\n",
      "Epoch 185/200\n",
      "242/242 [==============================] - 0s 261us/step - loss: 0.3197 - acc: 0.8595 - val_loss: 0.3128 - val_acc: 0.8852\n",
      "Epoch 186/200\n",
      "242/242 [==============================] - 0s 233us/step - loss: 0.3259 - acc: 0.8760 - val_loss: 0.3124 - val_acc: 0.8852\n",
      "Epoch 187/200\n",
      "242/242 [==============================] - 0s 213us/step - loss: 0.3196 - acc: 0.8595 - val_loss: 0.3121 - val_acc: 0.8852\n",
      "Epoch 188/200\n",
      "242/242 [==============================] - 0s 197us/step - loss: 0.3118 - acc: 0.8595 - val_loss: 0.3121 - val_acc: 0.8852\n",
      "Epoch 189/200\n",
      "242/242 [==============================] - 0s 181us/step - loss: 0.3188 - acc: 0.8471 - val_loss: 0.3119 - val_acc: 0.8852\n",
      "Epoch 190/200\n",
      "242/242 [==============================] - 0s 243us/step - loss: 0.3206 - acc: 0.8595 - val_loss: 0.3117 - val_acc: 0.8852\n",
      "Epoch 191/200\n",
      "242/242 [==============================] - 0s 217us/step - loss: 0.3275 - acc: 0.8636 - val_loss: 0.3112 - val_acc: 0.8852\n",
      "Epoch 192/200\n",
      "242/242 [==============================] - 0s 223us/step - loss: 0.3174 - acc: 0.8802 - val_loss: 0.3105 - val_acc: 0.9016\n",
      "Epoch 193/200\n",
      "242/242 [==============================] - 0s 212us/step - loss: 0.3025 - acc: 0.8719 - val_loss: 0.3101 - val_acc: 0.9016\n",
      "Epoch 194/200\n",
      "242/242 [==============================] - 0s 197us/step - loss: 0.3062 - acc: 0.8595 - val_loss: 0.3103 - val_acc: 0.9016\n",
      "Epoch 195/200\n",
      "242/242 [==============================] - 0s 208us/step - loss: 0.3167 - acc: 0.8554 - val_loss: 0.3097 - val_acc: 0.9016\n",
      "Epoch 196/200\n",
      "242/242 [==============================] - 0s 238us/step - loss: 0.3104 - acc: 0.8678 - val_loss: 0.3095 - val_acc: 0.9016\n",
      "Epoch 197/200\n",
      "242/242 [==============================] - 0s 343us/step - loss: 0.3093 - acc: 0.8719 - val_loss: 0.3092 - val_acc: 0.9016\n",
      "Epoch 198/200\n",
      "242/242 [==============================] - 0s 340us/step - loss: 0.3096 - acc: 0.8760 - val_loss: 0.3094 - val_acc: 0.9016\n",
      "Epoch 199/200\n",
      "242/242 [==============================] - 0s 404us/step - loss: 0.3248 - acc: 0.8595 - val_loss: 0.3101 - val_acc: 0.8852\n",
      "Epoch 200/200\n",
      "242/242 [==============================] - 0s 270us/step - loss: 0.3342 - acc: 0.8471 - val_loss: 0.3104 - val_acc: 0.9016\n"
     ]
    }
   ],
   "source": [
    "history = model.fit(X_train1, Y_train, epochs=200, validation_data=(X_test1, Y_test),verbose=1)"
   ]
  },
  {
   "cell_type": "code",
   "execution_count": 29,
   "metadata": {},
   "outputs": [
    {
     "data": {
      "image/png": "[encoded data removed]",
      "text/plain": [
       "<Figure size 432x288 with 1 Axes>"
      ]
     },
     "metadata": {},
     "output_type": "display_data"
    }
   ],
   "source": [
    "\n",
    "history_dict = history.history\n",
    "history_dict.keys()\n",
    "import matplotlib.pyplot as plt\n",
    "\n",
    "loss_values = history_dict['loss']\n",
    "val_loss_values = history_dict['val_loss']\n",
    "epochs = range(1, len(loss_values) + 1)\n",
    "\n",
    "# \"bo\" is for \"blue dot\"\n",
    "plt.plot(epochs, loss_values, 'bo')\n",
    "# b+ is for \"blue crosses\"\n",
    "plt.plot(epochs, val_loss_values, 'b+')\n",
    "plt.xlabel('Epochs')\n",
    "plt.ylabel('Loss')\n",
    "\n",
    "plt.show()"
   ]
  },
  {
   "cell_type": "code",
   "execution_count": 30,
   "metadata": {},
   "outputs": [
    {
     "name": "stdout",
     "output_type": "stream",
     "text": [
      "[[26  4]\n",
      " [ 2 29]]\n"
     ]
    },
    {
     "data": {
      "text/plain": [
       "Text(0.5, 1.0, 'Accuracy Score: 90.16')"
      ]
     },
     "execution_count": 30,
     "metadata": {},
     "output_type": "execute_result"
    },
    {
     "data": {
      "image/png": "[encoded data removed]",
      "text/plain": [
       "<Figure size 576x576 with 2 Axes>"
      ]
     },
     "metadata": {},
     "output_type": "display_data"
    }
   ],
   "source": [
    "Y_pred_cnn  = model.predict(X_test1)\n",
    "rounded = [round(x[0]) for x in Y_pred_cnn]\n",
    "Y_pred_cnn = rounded\n",
    "score_cnn = round(accuracy_score(Y_pred_cnn,Y_test)*100,2)\n",
    "import matplotlib.pyplot as plt\n",
    "import seaborn as sns\n",
    "from sklearn import metrics\n",
    "\n",
    "cm = metrics.confusion_matrix(Y_test, Y_pred_cnn)\n",
    "print(cm)\n",
    "plt.figure(figsize=(8,8))\n",
    "sns.heatmap(cm, annot=True, fmt=\".3f\", linewidths=.5, square = True, cmap = 'Blues_r');\n",
    "plt.ylabel('Actual label')\n",
    "plt.xlabel('Predicted label')\n",
    "all_sample_title = 'Accuracy Score: {0}'.format(score_cnn)\n",
    "plt.title(all_sample_title, size = 15)"
   ]
  },
  {
   "cell_type": "code",
   "execution_count": null,
   "metadata": {},
   "outputs": [],
   "source": []
  }
 ],
 "metadata": {
  "kernelspec": {
   "display_name": "Python 3",
   "language": "python",
   "name": "python3"
  },
  "language_info": {
   "codemirror_mode": {
    "name": "ipython",
    "version": 3
   },
   "file_extension": ".py",
   "mimetype": "text/x-python",
   "name": "python",
   "nbconvert_exporter": "python",
   "pygments_lexer": "ipython3",
   "version": "3.6.9"
  },
  "widgets": {
   "application/vnd.jupyter.widget-state+json": {
    "state": {},
    "version_major": 1,
    "version_minor": 0
   }
  }
 },
 "nbformat": 4,
 "nbformat_minor": 2
}
