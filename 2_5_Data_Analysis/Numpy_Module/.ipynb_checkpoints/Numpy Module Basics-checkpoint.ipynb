{
 "cells": [
  {
   "cell_type": "markdown",
   "metadata": {},
   "source": [
    "# Numpy Module Basics"
   ]
  },
  {
   "cell_type": "markdown",
   "metadata": {},
   "source": [
    "## Install numpy"
   ]
  },
  {
   "cell_type": "code",
   "execution_count": 2,
   "metadata": {},
   "outputs": [
    {
     "name": "stdout",
     "output_type": "stream",
     "text": [
      "Collecting numpy\n",
      "  Using cached https://files.pythonhosted.org/packages/62/20/4d43e141b5bc426ba38274933ef8e76e85c7adea2c321ecf9ebf7421cedf/numpy-1.18.1-cp36-cp36m-manylinux1_x86_64.whl\n",
      "Installing collected packages: numpy\n",
      "Successfully installed numpy-1.18.1\n",
      "Note: you may need to restart the kernel to use updated packages.\n"
     ]
    }
   ],
   "source": [
    "pip install numpy"
   ]
  },
  {
   "cell_type": "markdown",
   "metadata": {},
   "source": [
    "## import numpy"
   ]
  },
  {
   "cell_type": "code",
   "execution_count": 1,
   "metadata": {},
   "outputs": [],
   "source": [
    "import numpy as np"
   ]
  },
  {
   "cell_type": "code",
   "execution_count": 2,
   "metadata": {},
   "outputs": [
    {
     "name": "stdout",
     "output_type": "stream",
     "text": [
      "[[1 2 3 4]\n",
      " [5 6 7 8]]\n",
      "<class 'numpy.ndarray'>\n",
      "2\n",
      "(2, 4)\n",
      "int8\n",
      "8\n"
     ]
    }
   ],
   "source": [
    "'''\n",
    "Creating numpy array\n",
    "1-dimensional\n",
    "2-dimensional\n",
    "3-dimension\n",
    "\n",
    "rank is nothing but domension in case of numpy\n",
    "'''\n",
    "# creating array of rank 2\n",
    "arr = np.array([[1,2,3,4],[5,6,7,8]],dtype='int8')\n",
    "print(arr)\n",
    "\n",
    "# Type of Array\n",
    "print(type(arr))\n",
    "\n",
    "# Array dimensions /rank\n",
    "print(arr.ndim)\n",
    "\n",
    "# Shape of array\n",
    "print(arr.shape)\n",
    "\n",
    "# Type of data present in Array\n",
    "print(arr.dtype)\n",
    "\n",
    "# Size of Array (len of Array)\n",
    "print(arr.size)"
   ]
  },
  {
   "cell_type": "code",
   "execution_count": 6,
   "metadata": {
    "scrolled": true
   },
   "outputs": [
    {
     "name": "stdout",
     "output_type": "stream",
     "text": [
      "[[0. 0.]\n",
      " [0. 0.]] \n",
      "\n",
      "[[7 7]] \n",
      "\n",
      "[[1. 0.]\n",
      " [0. 1.]] \n",
      "\n",
      "[[0.64076215 0.6229165 ]\n",
      " [0.34457114 0.09798991]] \n",
      "\n",
      "[[ 0  1  2  3  4]\n",
      " [ 5  6  7  8  9]\n",
      " [10 11 12 13 14]] \n",
      "\n"
     ]
    }
   ],
   "source": [
    "\n",
    "'''\n",
    "There are many ways of Array creation like by using \n",
    ".zeros() , \n",
    ".ones() , \n",
    ".full()\n",
    ".eye()\n",
    "'''\n",
    "\n",
    "a = np.zeros((2,2))\n",
    "print(a , \"\\n\")\n",
    "\n",
    "b = np.full((1,2),7)\n",
    "print(b , \"\\n\")\n",
    "\n",
    "d = np.eye(2)\n",
    "print(d , \"\\n\")\n",
    "\n",
    "e = np.random.random((2,2))\n",
    "print(e , \"\\n\")\n",
    "\n",
    "arr = np.arange(15).reshape((3,5))\n",
    "print(arr , \"\\n\")"
   ]
  }
 ],
 "metadata": {
  "kernelspec": {
   "display_name": "Python 3",
   "language": "python",
   "name": "python3"
  },
  "language_info": {
   "codemirror_mode": {
    "name": "ipython",
    "version": 3
   },
   "file_extension": ".py",
   "mimetype": "text/x-python",
   "name": "python",
   "nbconvert_exporter": "python",
   "pygments_lexer": "ipython3",
   "version": "3.6.9"
  }
 },
 "nbformat": 4,
 "nbformat_minor": 2
}
