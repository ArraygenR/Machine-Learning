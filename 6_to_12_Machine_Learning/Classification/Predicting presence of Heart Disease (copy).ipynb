{
 "cells": [
  {
   "cell_type": "markdown",
   "metadata": {},
   "source": [
    "# Predicting presence of Heart Disease"
   ]
  },
  {
   "cell_type": "markdown",
   "metadata": {},
   "source": [
    "## 1. Importing essential libraries"
   ]
  },
  {
   "cell_type": "code",
   "execution_count": 1,
   "metadata": {},
   "outputs": [],
   "source": [
    "import numpy as np\n",
    "import pandas as pd\n",
    "import matplotlib.pyplot as plt\n",
    "import seaborn as sns"
   ]
  },
  {
   "cell_type": "markdown",
   "metadata": {},
   "source": [
    "## 2.Reading data"
   ]
  },
  {
   "cell_type": "code",
   "execution_count": 2,
   "metadata": {},
   "outputs": [],
   "source": [
    "dataset = pd.read_csv(\"input/heart.csv\")"
   ]
  },
  {
   "cell_type": "code",
   "execution_count": 3,
   "metadata": {},
   "outputs": [
    {
     "data": {
      "text/plain": [
       "pandas.core.frame.DataFrame"
      ]
     },
     "execution_count": 3,
     "metadata": {},
     "output_type": "execute_result"
    }
   ],
   "source": [
    "type(dataset)"
   ]
  },
  {
   "cell_type": "code",
   "execution_count": 4,
   "metadata": {},
   "outputs": [
    {
     "data": {
      "text/plain": [
       "(303, 14)"
      ]
     },
     "execution_count": 4,
     "metadata": {},
     "output_type": "execute_result"
    }
   ],
   "source": [
    "dataset.shape"
   ]
  },
  {
   "cell_type": "code",
   "execution_count": 5,
   "metadata": {},
   "outputs": [
    {
     "data": {
      "text/html": [
       "<div>\n",
       "<style scoped>\n",
       "    .dataframe tbody tr th:only-of-type {\n",
       "        vertical-align: middle;\n",
       "    }\n",
       "\n",
       "    .dataframe tbody tr th {\n",
       "        vertical-align: top;\n",
       "    }\n",
       "\n",
       "    .dataframe thead th {\n",
       "        text-align: right;\n",
       "    }\n",
       "</style>\n",
       "<table border=\"1\" class=\"dataframe\">\n",
       "  <thead>\n",
       "    <tr style=\"text-align: right;\">\n",
       "      <th></th>\n",
       "      <th>age</th>\n",
       "      <th>sex</th>\n",
       "      <th>cp</th>\n",
       "      <th>trestbps</th>\n",
       "      <th>chol</th>\n",
       "      <th>fbs</th>\n",
       "      <th>restecg</th>\n",
       "      <th>thalach</th>\n",
       "      <th>exang</th>\n",
       "      <th>oldpeak</th>\n",
       "      <th>slope</th>\n",
       "      <th>ca</th>\n",
       "      <th>thal</th>\n",
       "      <th>target</th>\n",
       "    </tr>\n",
       "  </thead>\n",
       "  <tbody>\n",
       "    <tr>\n",
       "      <th>0</th>\n",
       "      <td>63</td>\n",
       "      <td>1</td>\n",
       "      <td>3</td>\n",
       "      <td>145</td>\n",
       "      <td>233</td>\n",
       "      <td>1</td>\n",
       "      <td>0</td>\n",
       "      <td>150</td>\n",
       "      <td>0</td>\n",
       "      <td>2.3</td>\n",
       "      <td>0</td>\n",
       "      <td>0</td>\n",
       "      <td>1</td>\n",
       "      <td>1</td>\n",
       "    </tr>\n",
       "    <tr>\n",
       "      <th>1</th>\n",
       "      <td>37</td>\n",
       "      <td>1</td>\n",
       "      <td>2</td>\n",
       "      <td>130</td>\n",
       "      <td>250</td>\n",
       "      <td>0</td>\n",
       "      <td>1</td>\n",
       "      <td>187</td>\n",
       "      <td>0</td>\n",
       "      <td>3.5</td>\n",
       "      <td>0</td>\n",
       "      <td>0</td>\n",
       "      <td>2</td>\n",
       "      <td>1</td>\n",
       "    </tr>\n",
       "    <tr>\n",
       "      <th>2</th>\n",
       "      <td>41</td>\n",
       "      <td>0</td>\n",
       "      <td>1</td>\n",
       "      <td>130</td>\n",
       "      <td>204</td>\n",
       "      <td>0</td>\n",
       "      <td>0</td>\n",
       "      <td>172</td>\n",
       "      <td>0</td>\n",
       "      <td>1.4</td>\n",
       "      <td>2</td>\n",
       "      <td>0</td>\n",
       "      <td>2</td>\n",
       "      <td>1</td>\n",
       "    </tr>\n",
       "    <tr>\n",
       "      <th>3</th>\n",
       "      <td>56</td>\n",
       "      <td>1</td>\n",
       "      <td>1</td>\n",
       "      <td>120</td>\n",
       "      <td>236</td>\n",
       "      <td>0</td>\n",
       "      <td>1</td>\n",
       "      <td>178</td>\n",
       "      <td>0</td>\n",
       "      <td>0.8</td>\n",
       "      <td>2</td>\n",
       "      <td>0</td>\n",
       "      <td>2</td>\n",
       "      <td>1</td>\n",
       "    </tr>\n",
       "    <tr>\n",
       "      <th>4</th>\n",
       "      <td>57</td>\n",
       "      <td>0</td>\n",
       "      <td>0</td>\n",
       "      <td>120</td>\n",
       "      <td>354</td>\n",
       "      <td>0</td>\n",
       "      <td>1</td>\n",
       "      <td>163</td>\n",
       "      <td>1</td>\n",
       "      <td>0.6</td>\n",
       "      <td>2</td>\n",
       "      <td>0</td>\n",
       "      <td>2</td>\n",
       "      <td>1</td>\n",
       "    </tr>\n",
       "  </tbody>\n",
       "</table>\n",
       "</div>"
      ],
      "text/plain": [
       "   age  sex  cp  trestbps  chol  fbs  restecg  thalach  exang  oldpeak  slope  \\\n",
       "0   63    1   3       145   233    1        0      150      0      2.3      0   \n",
       "1   37    1   2       130   250    0        1      187      0      3.5      0   \n",
       "2   41    0   1       130   204    0        0      172      0      1.4      2   \n",
       "3   56    1   1       120   236    0        1      178      0      0.8      2   \n",
       "4   57    0   0       120   354    0        1      163      1      0.6      2   \n",
       "\n",
       "   ca  thal  target  \n",
       "0   0     1       1  \n",
       "1   0     2       1  \n",
       "2   0     2       1  \n",
       "3   0     2       1  \n",
       "4   0     2       1  "
      ]
     },
     "execution_count": 5,
     "metadata": {},
     "output_type": "execute_result"
    }
   ],
   "source": [
    "dataset.head(5)"
   ]
  },
  {
   "cell_type": "code",
   "execution_count": 6,
   "metadata": {},
   "outputs": [
    {
     "data": {
      "text/html": [
       "<div>\n",
       "<style scoped>\n",
       "    .dataframe tbody tr th:only-of-type {\n",
       "        vertical-align: middle;\n",
       "    }\n",
       "\n",
       "    .dataframe tbody tr th {\n",
       "        vertical-align: top;\n",
       "    }\n",
       "\n",
       "    .dataframe thead th {\n",
       "        text-align: right;\n",
       "    }\n",
       "</style>\n",
       "<table border=\"1\" class=\"dataframe\">\n",
       "  <thead>\n",
       "    <tr style=\"text-align: right;\">\n",
       "      <th></th>\n",
       "      <th>age</th>\n",
       "      <th>sex</th>\n",
       "      <th>cp</th>\n",
       "      <th>trestbps</th>\n",
       "      <th>chol</th>\n",
       "      <th>fbs</th>\n",
       "      <th>restecg</th>\n",
       "      <th>thalach</th>\n",
       "      <th>exang</th>\n",
       "      <th>oldpeak</th>\n",
       "      <th>slope</th>\n",
       "      <th>ca</th>\n",
       "      <th>thal</th>\n",
       "      <th>target</th>\n",
       "    </tr>\n",
       "  </thead>\n",
       "  <tbody>\n",
       "    <tr>\n",
       "      <th>241</th>\n",
       "      <td>59</td>\n",
       "      <td>0</td>\n",
       "      <td>0</td>\n",
       "      <td>174</td>\n",
       "      <td>249</td>\n",
       "      <td>0</td>\n",
       "      <td>1</td>\n",
       "      <td>143</td>\n",
       "      <td>1</td>\n",
       "      <td>0.0</td>\n",
       "      <td>1</td>\n",
       "      <td>0</td>\n",
       "      <td>2</td>\n",
       "      <td>0</td>\n",
       "    </tr>\n",
       "    <tr>\n",
       "      <th>37</th>\n",
       "      <td>54</td>\n",
       "      <td>1</td>\n",
       "      <td>2</td>\n",
       "      <td>150</td>\n",
       "      <td>232</td>\n",
       "      <td>0</td>\n",
       "      <td>0</td>\n",
       "      <td>165</td>\n",
       "      <td>0</td>\n",
       "      <td>1.6</td>\n",
       "      <td>2</td>\n",
       "      <td>0</td>\n",
       "      <td>3</td>\n",
       "      <td>1</td>\n",
       "    </tr>\n",
       "    <tr>\n",
       "      <th>135</th>\n",
       "      <td>49</td>\n",
       "      <td>0</td>\n",
       "      <td>0</td>\n",
       "      <td>130</td>\n",
       "      <td>269</td>\n",
       "      <td>0</td>\n",
       "      <td>1</td>\n",
       "      <td>163</td>\n",
       "      <td>0</td>\n",
       "      <td>0.0</td>\n",
       "      <td>2</td>\n",
       "      <td>0</td>\n",
       "      <td>2</td>\n",
       "      <td>1</td>\n",
       "    </tr>\n",
       "    <tr>\n",
       "      <th>207</th>\n",
       "      <td>60</td>\n",
       "      <td>0</td>\n",
       "      <td>0</td>\n",
       "      <td>150</td>\n",
       "      <td>258</td>\n",
       "      <td>0</td>\n",
       "      <td>0</td>\n",
       "      <td>157</td>\n",
       "      <td>0</td>\n",
       "      <td>2.6</td>\n",
       "      <td>1</td>\n",
       "      <td>2</td>\n",
       "      <td>3</td>\n",
       "      <td>0</td>\n",
       "    </tr>\n",
       "    <tr>\n",
       "      <th>191</th>\n",
       "      <td>58</td>\n",
       "      <td>1</td>\n",
       "      <td>0</td>\n",
       "      <td>128</td>\n",
       "      <td>216</td>\n",
       "      <td>0</td>\n",
       "      <td>0</td>\n",
       "      <td>131</td>\n",
       "      <td>1</td>\n",
       "      <td>2.2</td>\n",
       "      <td>1</td>\n",
       "      <td>3</td>\n",
       "      <td>3</td>\n",
       "      <td>0</td>\n",
       "    </tr>\n",
       "  </tbody>\n",
       "</table>\n",
       "</div>"
      ],
      "text/plain": [
       "     age  sex  cp  trestbps  chol  fbs  restecg  thalach  exang  oldpeak  \\\n",
       "241   59    0   0       174   249    0        1      143      1      0.0   \n",
       "37    54    1   2       150   232    0        0      165      0      1.6   \n",
       "135   49    0   0       130   269    0        1      163      0      0.0   \n",
       "207   60    0   0       150   258    0        0      157      0      2.6   \n",
       "191   58    1   0       128   216    0        0      131      1      2.2   \n",
       "\n",
       "     slope  ca  thal  target  \n",
       "241      1   0     2       0  \n",
       "37       2   0     3       1  \n",
       "135      2   0     2       1  \n",
       "207      1   2     3       0  \n",
       "191      1   3     3       0  "
      ]
     },
     "execution_count": 6,
     "metadata": {},
     "output_type": "execute_result"
    }
   ],
   "source": [
    "dataset.sample(5)"
   ]
  },
  {
   "cell_type": "code",
   "execution_count": 7,
   "metadata": {},
   "outputs": [
    {
     "data": {
      "text/html": [
       "<div>\n",
       "<style scoped>\n",
       "    .dataframe tbody tr th:only-of-type {\n",
       "        vertical-align: middle;\n",
       "    }\n",
       "\n",
       "    .dataframe tbody tr th {\n",
       "        vertical-align: top;\n",
       "    }\n",
       "\n",
       "    .dataframe thead th {\n",
       "        text-align: right;\n",
       "    }\n",
       "</style>\n",
       "<table border=\"1\" class=\"dataframe\">\n",
       "  <thead>\n",
       "    <tr style=\"text-align: right;\">\n",
       "      <th></th>\n",
       "      <th>age</th>\n",
       "      <th>sex</th>\n",
       "      <th>cp</th>\n",
       "      <th>trestbps</th>\n",
       "      <th>chol</th>\n",
       "      <th>fbs</th>\n",
       "      <th>restecg</th>\n",
       "      <th>thalach</th>\n",
       "      <th>exang</th>\n",
       "      <th>oldpeak</th>\n",
       "      <th>slope</th>\n",
       "      <th>ca</th>\n",
       "      <th>thal</th>\n",
       "      <th>target</th>\n",
       "    </tr>\n",
       "  </thead>\n",
       "  <tbody>\n",
       "    <tr>\n",
       "      <th>count</th>\n",
       "      <td>303.000000</td>\n",
       "      <td>303.000000</td>\n",
       "      <td>303.000000</td>\n",
       "      <td>303.000000</td>\n",
       "      <td>303.000000</td>\n",
       "      <td>303.000000</td>\n",
       "      <td>303.000000</td>\n",
       "      <td>303.000000</td>\n",
       "      <td>303.000000</td>\n",
       "      <td>303.000000</td>\n",
       "      <td>303.000000</td>\n",
       "      <td>303.000000</td>\n",
       "      <td>303.000000</td>\n",
       "      <td>303.000000</td>\n",
       "    </tr>\n",
       "    <tr>\n",
       "      <th>mean</th>\n",
       "      <td>54.366337</td>\n",
       "      <td>0.683168</td>\n",
       "      <td>0.966997</td>\n",
       "      <td>131.623762</td>\n",
       "      <td>246.264026</td>\n",
       "      <td>0.148515</td>\n",
       "      <td>0.528053</td>\n",
       "      <td>149.646865</td>\n",
       "      <td>0.326733</td>\n",
       "      <td>1.039604</td>\n",
       "      <td>1.399340</td>\n",
       "      <td>0.729373</td>\n",
       "      <td>2.313531</td>\n",
       "      <td>0.544554</td>\n",
       "    </tr>\n",
       "    <tr>\n",
       "      <th>std</th>\n",
       "      <td>9.082101</td>\n",
       "      <td>0.466011</td>\n",
       "      <td>1.032052</td>\n",
       "      <td>17.538143</td>\n",
       "      <td>51.830751</td>\n",
       "      <td>0.356198</td>\n",
       "      <td>0.525860</td>\n",
       "      <td>22.905161</td>\n",
       "      <td>0.469794</td>\n",
       "      <td>1.161075</td>\n",
       "      <td>0.616226</td>\n",
       "      <td>1.022606</td>\n",
       "      <td>0.612277</td>\n",
       "      <td>0.498835</td>\n",
       "    </tr>\n",
       "    <tr>\n",
       "      <th>min</th>\n",
       "      <td>29.000000</td>\n",
       "      <td>0.000000</td>\n",
       "      <td>0.000000</td>\n",
       "      <td>94.000000</td>\n",
       "      <td>126.000000</td>\n",
       "      <td>0.000000</td>\n",
       "      <td>0.000000</td>\n",
       "      <td>71.000000</td>\n",
       "      <td>0.000000</td>\n",
       "      <td>0.000000</td>\n",
       "      <td>0.000000</td>\n",
       "      <td>0.000000</td>\n",
       "      <td>0.000000</td>\n",
       "      <td>0.000000</td>\n",
       "    </tr>\n",
       "    <tr>\n",
       "      <th>25%</th>\n",
       "      <td>47.500000</td>\n",
       "      <td>0.000000</td>\n",
       "      <td>0.000000</td>\n",
       "      <td>120.000000</td>\n",
       "      <td>211.000000</td>\n",
       "      <td>0.000000</td>\n",
       "      <td>0.000000</td>\n",
       "      <td>133.500000</td>\n",
       "      <td>0.000000</td>\n",
       "      <td>0.000000</td>\n",
       "      <td>1.000000</td>\n",
       "      <td>0.000000</td>\n",
       "      <td>2.000000</td>\n",
       "      <td>0.000000</td>\n",
       "    </tr>\n",
       "    <tr>\n",
       "      <th>50%</th>\n",
       "      <td>55.000000</td>\n",
       "      <td>1.000000</td>\n",
       "      <td>1.000000</td>\n",
       "      <td>130.000000</td>\n",
       "      <td>240.000000</td>\n",
       "      <td>0.000000</td>\n",
       "      <td>1.000000</td>\n",
       "      <td>153.000000</td>\n",
       "      <td>0.000000</td>\n",
       "      <td>0.800000</td>\n",
       "      <td>1.000000</td>\n",
       "      <td>0.000000</td>\n",
       "      <td>2.000000</td>\n",
       "      <td>1.000000</td>\n",
       "    </tr>\n",
       "    <tr>\n",
       "      <th>75%</th>\n",
       "      <td>61.000000</td>\n",
       "      <td>1.000000</td>\n",
       "      <td>2.000000</td>\n",
       "      <td>140.000000</td>\n",
       "      <td>274.500000</td>\n",
       "      <td>0.000000</td>\n",
       "      <td>1.000000</td>\n",
       "      <td>166.000000</td>\n",
       "      <td>1.000000</td>\n",
       "      <td>1.600000</td>\n",
       "      <td>2.000000</td>\n",
       "      <td>1.000000</td>\n",
       "      <td>3.000000</td>\n",
       "      <td>1.000000</td>\n",
       "    </tr>\n",
       "    <tr>\n",
       "      <th>max</th>\n",
       "      <td>77.000000</td>\n",
       "      <td>1.000000</td>\n",
       "      <td>3.000000</td>\n",
       "      <td>200.000000</td>\n",
       "      <td>564.000000</td>\n",
       "      <td>1.000000</td>\n",
       "      <td>2.000000</td>\n",
       "      <td>202.000000</td>\n",
       "      <td>1.000000</td>\n",
       "      <td>6.200000</td>\n",
       "      <td>2.000000</td>\n",
       "      <td>4.000000</td>\n",
       "      <td>3.000000</td>\n",
       "      <td>1.000000</td>\n",
       "    </tr>\n",
       "  </tbody>\n",
       "</table>\n",
       "</div>"
      ],
      "text/plain": [
       "              age         sex          cp    trestbps        chol         fbs  \\\n",
       "count  303.000000  303.000000  303.000000  303.000000  303.000000  303.000000   \n",
       "mean    54.366337    0.683168    0.966997  131.623762  246.264026    0.148515   \n",
       "std      9.082101    0.466011    1.032052   17.538143   51.830751    0.356198   \n",
       "min     29.000000    0.000000    0.000000   94.000000  126.000000    0.000000   \n",
       "25%     47.500000    0.000000    0.000000  120.000000  211.000000    0.000000   \n",
       "50%     55.000000    1.000000    1.000000  130.000000  240.000000    0.000000   \n",
       "75%     61.000000    1.000000    2.000000  140.000000  274.500000    0.000000   \n",
       "max     77.000000    1.000000    3.000000  200.000000  564.000000    1.000000   \n",
       "\n",
       "          restecg     thalach       exang     oldpeak       slope          ca  \\\n",
       "count  303.000000  303.000000  303.000000  303.000000  303.000000  303.000000   \n",
       "mean     0.528053  149.646865    0.326733    1.039604    1.399340    0.729373   \n",
       "std      0.525860   22.905161    0.469794    1.161075    0.616226    1.022606   \n",
       "min      0.000000   71.000000    0.000000    0.000000    0.000000    0.000000   \n",
       "25%      0.000000  133.500000    0.000000    0.000000    1.000000    0.000000   \n",
       "50%      1.000000  153.000000    0.000000    0.800000    1.000000    0.000000   \n",
       "75%      1.000000  166.000000    1.000000    1.600000    2.000000    1.000000   \n",
       "max      2.000000  202.000000    1.000000    6.200000    2.000000    4.000000   \n",
       "\n",
       "             thal      target  \n",
       "count  303.000000  303.000000  \n",
       "mean     2.313531    0.544554  \n",
       "std      0.612277    0.498835  \n",
       "min      0.000000    0.000000  \n",
       "25%      2.000000    0.000000  \n",
       "50%      2.000000    1.000000  \n",
       "75%      3.000000    1.000000  \n",
       "max      3.000000    1.000000  "
      ]
     },
     "execution_count": 7,
     "metadata": {},
     "output_type": "execute_result"
    }
   ],
   "source": [
    "dataset.describe()"
   ]
  },
  {
   "cell_type": "code",
   "execution_count": 8,
   "metadata": {},
   "outputs": [
    {
     "name": "stdout",
     "output_type": "stream",
     "text": [
      "<class 'pandas.core.frame.DataFrame'>\n",
      "RangeIndex: 303 entries, 0 to 302\n",
      "Data columns (total 14 columns):\n",
      " #   Column    Non-Null Count  Dtype  \n",
      "---  ------    --------------  -----  \n",
      " 0   age       303 non-null    int64  \n",
      " 1   sex       303 non-null    int64  \n",
      " 2   cp        303 non-null    int64  \n",
      " 3   trestbps  303 non-null    int64  \n",
      " 4   chol      303 non-null    int64  \n",
      " 5   fbs       303 non-null    int64  \n",
      " 6   restecg   303 non-null    int64  \n",
      " 7   thalach   303 non-null    int64  \n",
      " 8   exang     303 non-null    int64  \n",
      " 9   oldpeak   303 non-null    float64\n",
      " 10  slope     303 non-null    int64  \n",
      " 11  ca        303 non-null    int64  \n",
      " 12  thal      303 non-null    int64  \n",
      " 13  target    303 non-null    int64  \n",
      "dtypes: float64(1), int64(13)\n",
      "memory usage: 33.3 KB\n"
     ]
    }
   ],
   "source": [
    "dataset.info()"
   ]
  },
  {
   "cell_type": "code",
   "execution_count": 9,
   "metadata": {},
   "outputs": [
    {
     "data": {
      "text/plain": [
       "count    303.000000\n",
       "mean       0.544554\n",
       "std        0.498835\n",
       "min        0.000000\n",
       "25%        0.000000\n",
       "50%        1.000000\n",
       "75%        1.000000\n",
       "max        1.000000\n",
       "Name: target, dtype: float64"
      ]
     },
     "execution_count": 9,
     "metadata": {},
     "output_type": "execute_result"
    }
   ],
   "source": [
    "dataset[\"target\"].describe()"
   ]
  },
  {
   "cell_type": "code",
   "execution_count": 10,
   "metadata": {},
   "outputs": [
    {
     "data": {
      "text/plain": [
       "array([1, 0])"
      ]
     },
     "execution_count": 10,
     "metadata": {},
     "output_type": "execute_result"
    }
   ],
   "source": [
    "dataset[\"target\"].unique()"
   ]
  },
  {
   "cell_type": "markdown",
   "metadata": {},
   "source": [
    "### Checking correlation between columns"
   ]
  },
  {
   "cell_type": "code",
   "execution_count": 11,
   "metadata": {},
   "outputs": [
    {
     "data": {
      "text/plain": [
       "target      1.000000\n",
       "exang       0.436757\n",
       "cp          0.433798\n",
       "oldpeak     0.430696\n",
       "thalach     0.421741\n",
       "ca          0.391724\n",
       "slope       0.345877\n",
       "thal        0.344029\n",
       "sex         0.280937\n",
       "age         0.225439\n",
       "trestbps    0.144931\n",
       "restecg     0.137230\n",
       "chol        0.085239\n",
       "fbs         0.028046\n",
       "Name: target, dtype: float64"
      ]
     },
     "execution_count": 11,
     "metadata": {},
     "output_type": "execute_result"
    }
   ],
   "source": [
    "dataset.corr()[\"target\"].abs().sort_values(ascending=False)"
   ]
  },
  {
   "cell_type": "markdown",
   "metadata": {},
   "source": [
    "## 3.Exploratory Data Analysis (EDA)"
   ]
  },
  {
   "cell_type": "markdown",
   "metadata": {},
   "source": [
    "### First, analysing the target variable:"
   ]
  },
  {
   "cell_type": "code",
   "execution_count": 12,
   "metadata": {},
   "outputs": [
    {
     "name": "stdout",
     "output_type": "stream",
     "text": [
      "1    165\n",
      "0    138\n",
      "Name: target, dtype: int64\n"
     ]
    },
    {
     "data": {
      "image/png": "[encoded data removed]",
      "text/plain": [
       "<Figure size 432x288 with 1 Axes>"
      ]
     },
     "metadata": {},
     "output_type": "display_data"
    }
   ],
   "source": [
    "y = dataset[\"target\"]\n",
    "\n",
    "sns.countplot(y)\n",
    "\n",
    "\n",
    "target_temp = dataset.target.value_counts()\n",
    "\n",
    "print(target_temp)"
   ]
  },
  {
   "cell_type": "code",
   "execution_count": 13,
   "metadata": {},
   "outputs": [
    {
     "name": "stdout",
     "output_type": "stream",
     "text": [
      "Percentage of patience without heart problems: 45.54\n",
      "Percentage of patience with heart problems: 54.46\n"
     ]
    }
   ],
   "source": [
    "print(\"Percentage of patience without heart problems: \"+str(round(target_temp[0]*100/303,2)))\n",
    "print(\"Percentage of patience with heart problems: \"+str(round(target_temp[1]*100/303,2)))"
   ]
  },
  {
   "cell_type": "markdown",
   "metadata": {},
   "source": [
    "### We'll analyse 'sex', 'cp', 'fbs', 'restecg', 'exang', 'slope', 'ca' and 'thal' features"
   ]
  },
  {
   "cell_type": "markdown",
   "metadata": {},
   "source": [
    "#### Analysing the 'Sex' feature (1: male, 0: female)"
   ]
  },
  {
   "cell_type": "code",
   "execution_count": 14,
   "metadata": {},
   "outputs": [
    {
     "data": {
      "text/plain": [
       "array([1, 0])"
      ]
     },
     "execution_count": 14,
     "metadata": {},
     "output_type": "execute_result"
    }
   ],
   "source": [
    "dataset[\"sex\"].unique()"
   ]
  },
  {
   "cell_type": "code",
   "execution_count": 15,
   "metadata": {},
   "outputs": [
    {
     "data": {
      "text/plain": [
       "<matplotlib.axes._subplots.AxesSubplot at 0x7ff0ff31c208>"
      ]
     },
     "execution_count": 15,
     "metadata": {},
     "output_type": "execute_result"
    },
    {
     "data": {
      "image/png": "[encoded data removed]",
      "text/plain": [
       "<Figure size 432x288 with 1 Axes>"
      ]
     },
     "metadata": {},
     "output_type": "display_data"
    }
   ],
   "source": [
    "sns.barplot(dataset[\"sex\"],y)"
   ]
  },
  {
   "cell_type": "markdown",
   "metadata": {},
   "source": [
    "We notice, that females are more likely to have heart problems than males"
   ]
  },
  {
   "cell_type": "markdown",
   "metadata": {},
   "source": [
    "#### Analysing the 'Chest Pain Type' feature ( chest pain type, 1: typical angina, 2: atypical angina, 3: non-anginal pain, 4: asymptomatic )"
   ]
  },
  {
   "cell_type": "code",
   "execution_count": 16,
   "metadata": {},
   "outputs": [
    {
     "data": {
      "text/plain": [
       "array([3, 2, 1, 0])"
      ]
     },
     "execution_count": 16,
     "metadata": {},
     "output_type": "execute_result"
    }
   ],
   "source": [
    "dataset[\"cp\"].unique()"
   ]
  },
  {
   "cell_type": "code",
   "execution_count": 17,
   "metadata": {},
   "outputs": [
    {
     "data": {
      "text/plain": [
       "<matplotlib.axes._subplots.AxesSubplot at 0x7ff0feeb9978>"
      ]
     },
     "execution_count": 17,
     "metadata": {},
     "output_type": "execute_result"
    },
    {
     "data": {
      "image/png": "[encoded data removed]",
      "text/plain": [
       "<Figure size 432x288 with 1 Axes>"
      ]
     },
     "metadata": {},
     "output_type": "display_data"
    }
   ],
   "source": [
    "sns.barplot(dataset[\"cp\"],y)"
   ]
  },
  {
   "cell_type": "markdown",
   "metadata": {},
   "source": [
    "** We notice, that chest pain of '0', i.e. the ones with typical angina are much less likely to have heart problems "
   ]
  },
  {
   "cell_type": "markdown",
   "metadata": {},
   "source": [
    "#### Analysing the FBS feature (fasting blood sugar)"
   ]
  },
  {
   "cell_type": "code",
   "execution_count": 18,
   "metadata": {},
   "outputs": [
    {
     "data": {
      "text/plain": [
       "count    303.000000\n",
       "mean       0.148515\n",
       "std        0.356198\n",
       "min        0.000000\n",
       "25%        0.000000\n",
       "50%        0.000000\n",
       "75%        0.000000\n",
       "max        1.000000\n",
       "Name: fbs, dtype: float64"
      ]
     },
     "execution_count": 18,
     "metadata": {},
     "output_type": "execute_result"
    }
   ],
   "source": [
    "dataset[\"fbs\"].describe()"
   ]
  },
  {
   "cell_type": "code",
   "execution_count": 19,
   "metadata": {},
   "outputs": [
    {
     "data": {
      "text/plain": [
       "array([1, 0])"
      ]
     },
     "execution_count": 19,
     "metadata": {},
     "output_type": "execute_result"
    }
   ],
   "source": [
    "dataset[\"fbs\"].unique()"
   ]
  },
  {
   "cell_type": "code",
   "execution_count": 20,
   "metadata": {},
   "outputs": [
    {
     "data": {
      "text/plain": [
       "<matplotlib.axes._subplots.AxesSubplot at 0x7ff1013ce5c0>"
      ]
     },
     "execution_count": 20,
     "metadata": {},
     "output_type": "execute_result"
    },
    {
     "data": {
      "image/png": "[encoded data removed]",
      "text/plain": [
       "<Figure size 432x288 with 1 Axes>"
      ]
     },
     "metadata": {},
     "output_type": "display_data"
    }
   ],
   "source": [
    "sns.barplot(dataset[\"fbs\"],y)"
   ]
  },
  {
   "cell_type": "markdown",
   "metadata": {},
   "source": [
    "#### Analysing the restecg feature (resting electrocardiographic results)"
   ]
  },
  {
   "cell_type": "code",
   "execution_count": 21,
   "metadata": {},
   "outputs": [
    {
     "data": {
      "text/plain": [
       "array([0, 1, 2])"
      ]
     },
     "execution_count": 21,
     "metadata": {},
     "output_type": "execute_result"
    }
   ],
   "source": [
    "dataset[\"restecg\"].unique()"
   ]
  },
  {
   "cell_type": "code",
   "execution_count": 22,
   "metadata": {},
   "outputs": [
    {
     "data": {
      "text/plain": [
       "<matplotlib.axes._subplots.AxesSubplot at 0x7ff0fee26be0>"
      ]
     },
     "execution_count": 22,
     "metadata": {},
     "output_type": "execute_result"
    },
    {
     "data": {
      "image/png": "[encoded data removed]",
      "text/plain": [
       "<Figure size 432x288 with 1 Axes>"
      ]
     },
     "metadata": {},
     "output_type": "display_data"
    }
   ],
   "source": [
    "sns.barplot(dataset[\"restecg\"],y)"
   ]
  },
  {
   "cell_type": "markdown",
   "metadata": {},
   "source": [
    "###### We realize that people with restecg '1' and '0' are much more likely to have a heart disease than with restecg '2'"
   ]
  },
  {
   "cell_type": "markdown",
   "metadata": {},
   "source": [
    "#### Analysing the 'exang' feature (exercise induced angina)"
   ]
  },
  {
   "cell_type": "code",
   "execution_count": 23,
   "metadata": {},
   "outputs": [
    {
     "data": {
      "text/plain": [
       "array([0, 1])"
      ]
     },
     "execution_count": 23,
     "metadata": {},
     "output_type": "execute_result"
    }
   ],
   "source": [
    "dataset[\"exang\"].unique()"
   ]
  },
  {
   "cell_type": "code",
   "execution_count": 24,
   "metadata": {},
   "outputs": [
    {
     "data": {
      "text/plain": [
       "<matplotlib.axes._subplots.AxesSubplot at 0x7ff0fed4db00>"
      ]
     },
     "execution_count": 24,
     "metadata": {},
     "output_type": "execute_result"
    },
    {
     "data": {
      "image/png": "[encoded data removed]",
      "text/plain": [
       "<Figure size 432x288 with 1 Axes>"
      ]
     },
     "metadata": {},
     "output_type": "display_data"
    }
   ],
   "source": [
    "sns.barplot(dataset[\"exang\"],y)"
   ]
  },
  {
   "cell_type": "markdown",
   "metadata": {},
   "source": [
    "##### People with exang=1 i.e. Exercise induced angina are much less likely to have heart problems "
   ]
  },
  {
   "cell_type": "markdown",
   "metadata": {},
   "source": [
    "#### Analysing the Slope feature (the slope of the peak exercise ST segment)"
   ]
  },
  {
   "cell_type": "code",
   "execution_count": 25,
   "metadata": {},
   "outputs": [
    {
     "data": {
      "text/plain": [
       "array([0, 2, 1])"
      ]
     },
     "execution_count": 25,
     "metadata": {},
     "output_type": "execute_result"
    }
   ],
   "source": [
    "dataset[\"slope\"].unique()"
   ]
  },
  {
   "cell_type": "code",
   "execution_count": 26,
   "metadata": {},
   "outputs": [
    {
     "data": {
      "text/plain": [
       "<matplotlib.axes._subplots.AxesSubplot at 0x7ff0fecce6a0>"
      ]
     },
     "execution_count": 26,
     "metadata": {},
     "output_type": "execute_result"
    },
    {
     "data": {
      "image/png": "[encoded data removed]",
      "text/plain": [
       "<Figure size 432x288 with 1 Axes>"
      ]
     },
     "metadata": {},
     "output_type": "display_data"
    }
   ],
   "source": [
    "sns.barplot(dataset[\"slope\"],y)"
   ]
  },
  {
   "cell_type": "markdown",
   "metadata": {},
   "source": [
    "##### We observe, that Slope '2' causes heart pain much more than Slope '0' and '1'"
   ]
  },
  {
   "cell_type": "markdown",
   "metadata": {},
   "source": [
    "#### Analysing the 'ca' feature (number of major vessels (0-3) colored by flourosopy)"
   ]
  },
  {
   "cell_type": "code",
   "execution_count": 27,
   "metadata": {},
   "outputs": [
    {
     "data": {
      "text/plain": [
       "array([0, 2, 1, 3, 4])"
      ]
     },
     "execution_count": 27,
     "metadata": {},
     "output_type": "execute_result"
    }
   ],
   "source": [
    "dataset[\"ca\"].unique()"
   ]
  },
  {
   "cell_type": "code",
   "execution_count": 28,
   "metadata": {},
   "outputs": [
    {
     "data": {
      "text/plain": [
       "<matplotlib.axes._subplots.AxesSubplot at 0x7ff0fec3f208>"
      ]
     },
     "execution_count": 28,
     "metadata": {},
     "output_type": "execute_result"
    },
    {
     "data": {
      "image/png": "[encoded data removed]",
      "text/plain": [
       "<Figure size 432x288 with 1 Axes>"
      ]
     },
     "metadata": {},
     "output_type": "display_data"
    }
   ],
   "source": [
    "sns.countplot(dataset[\"ca\"])"
   ]
  },
  {
   "cell_type": "code",
   "execution_count": 29,
   "metadata": {},
   "outputs": [
    {
     "data": {
      "text/plain": [
       "<matplotlib.axes._subplots.AxesSubplot at 0x7ff0fec0b588>"
      ]
     },
     "execution_count": 29,
     "metadata": {},
     "output_type": "execute_result"
    },
    {
     "data": {
      "image/png": "[encoded data removed]",
      "text/plain": [
       "<Figure size 432x288 with 1 Axes>"
      ]
     },
     "metadata": {},
     "output_type": "display_data"
    }
   ],
   "source": [
    "sns.barplot(dataset[\"ca\"],y)"
   ]
  },
  {
   "cell_type": "markdown",
   "metadata": {},
   "source": [
    "#### Analysing the 'thal' feature"
   ]
  },
  {
   "cell_type": "code",
   "execution_count": 30,
   "metadata": {},
   "outputs": [
    {
     "data": {
      "text/plain": [
       "array([1, 2, 3, 0])"
      ]
     },
     "execution_count": 30,
     "metadata": {},
     "output_type": "execute_result"
    }
   ],
   "source": [
    "dataset[\"thal\"].unique()"
   ]
  },
  {
   "cell_type": "code",
   "execution_count": 31,
   "metadata": {},
   "outputs": [
    {
     "data": {
      "text/plain": [
       "<matplotlib.axes._subplots.AxesSubplot at 0x7ff0feb9c828>"
      ]
     },
     "execution_count": 31,
     "metadata": {},
     "output_type": "execute_result"
    },
    {
     "data": {
      "image/png": "[encoded data removed]",
      "text/plain": [
       "<Figure size 432x288 with 1 Axes>"
      ]
     },
     "metadata": {},
     "output_type": "display_data"
    }
   ],
   "source": [
    "sns.barplot(dataset[\"thal\"],y)"
   ]
  },
  {
   "cell_type": "code",
   "execution_count": 32,
   "metadata": {},
   "outputs": [
    {
     "data": {
      "text/plain": [
       "<matplotlib.axes._subplots.AxesSubplot at 0x7ff0feb737b8>"
      ]
     },
     "execution_count": 32,
     "metadata": {},
     "output_type": "execute_result"
    },
    {
     "data": {
      "image/png": "[encoded data removed]",
      "text/plain": [
       "<Figure size 432x288 with 1 Axes>"
      ]
     },
     "metadata": {},
     "output_type": "display_data"
    }
   ],
   "source": [
    "sns.distplot(dataset[\"thal\"])"
   ]
  },
  {
   "cell_type": "markdown",
   "metadata": {},
   "source": [
    "## 4. Train Test split"
   ]
  },
  {
   "cell_type": "code",
   "execution_count": 33,
   "metadata": {},
   "outputs": [],
   "source": [
    "from sklearn.model_selection import train_test_split\n",
    "\n",
    "predictors = dataset.drop(\"target\",axis=1)\n",
    "target = dataset[\"target\"]\n",
    "\n",
    "X_train,X_test,Y_train,Y_test = train_test_split(predictors,target,test_size=0.20,random_state=0)\n"
   ]
  },
  {
   "cell_type": "code",
   "execution_count": 34,
   "metadata": {},
   "outputs": [
    {
     "data": {
      "text/plain": [
       "(242, 13)"
      ]
     },
     "execution_count": 34,
     "metadata": {},
     "output_type": "execute_result"
    }
   ],
   "source": [
    "X_train.shape"
   ]
  },
  {
   "cell_type": "code",
   "execution_count": 35,
   "metadata": {},
   "outputs": [
    {
     "data": {
      "text/plain": [
       "(61, 13)"
      ]
     },
     "execution_count": 35,
     "metadata": {},
     "output_type": "execute_result"
    }
   ],
   "source": [
    "X_test.shape"
   ]
  },
  {
   "cell_type": "code",
   "execution_count": 36,
   "metadata": {},
   "outputs": [
    {
     "data": {
      "text/plain": [
       "(242,)"
      ]
     },
     "execution_count": 36,
     "metadata": {},
     "output_type": "execute_result"
    }
   ],
   "source": [
    "Y_train.shape"
   ]
  },
  {
   "cell_type": "code",
   "execution_count": 37,
   "metadata": {},
   "outputs": [
    {
     "data": {
      "text/plain": [
       "(61,)"
      ]
     },
     "execution_count": 37,
     "metadata": {},
     "output_type": "execute_result"
    }
   ],
   "source": [
    "Y_test.shape"
   ]
  },
  {
   "cell_type": "code",
   "execution_count": 38,
   "metadata": {},
   "outputs": [
    {
     "data": {
      "text/plain": [
       "array([1, 0])"
      ]
     },
     "execution_count": 38,
     "metadata": {},
     "output_type": "execute_result"
    }
   ],
   "source": [
    "Y_train.unique()"
   ]
  },
  {
   "cell_type": "markdown",
   "metadata": {},
   "source": [
    "## 5. Model Fitting"
   ]
  },
  {
   "cell_type": "code",
   "execution_count": 39,
   "metadata": {},
   "outputs": [],
   "source": [
    "from sklearn.metrics import accuracy_score"
   ]
  },
  {
   "cell_type": "markdown",
   "metadata": {},
   "source": [
    "### Logistic Regression"
   ]
  },
  {
   "cell_type": "code",
   "execution_count": 40,
   "metadata": {},
   "outputs": [],
   "source": [
    "from sklearn.linear_model import LogisticRegression\n",
    "\n",
    "lr = LogisticRegression(max_iter = 1000)\n",
    "\n",
    "lr.fit(X_train,Y_train)\n",
    "\n",
    "Y_pred_lr = lr.predict(X_test)"
   ]
  },
  {
   "cell_type": "code",
   "execution_count": 41,
   "metadata": {},
   "outputs": [
    {
     "data": {
      "text/plain": [
       "(61,)"
      ]
     },
     "execution_count": 41,
     "metadata": {},
     "output_type": "execute_result"
    }
   ],
   "source": [
    "Y_pred_lr.shape"
   ]
  },
  {
   "cell_type": "code",
   "execution_count": 42,
   "metadata": {},
   "outputs": [
    {
     "name": "stdout",
     "output_type": "stream",
     "text": [
      "The accuracy score achieved using Logistic Regression is: 85.25 %\n"
     ]
    }
   ],
   "source": [
    "score_lr = round(accuracy_score(Y_pred_lr,Y_test)*100,2)\n",
    "\n",
    "print(\"The accuracy score achieved using Logistic Regression is: \"+str(score_lr)+\" %\")"
   ]
  },
  {
   "cell_type": "markdown",
   "metadata": {},
   "source": [
    "### Naive Bayes"
   ]
  },
  {
   "cell_type": "code",
   "execution_count": 43,
   "metadata": {},
   "outputs": [],
   "source": [
    "from sklearn.naive_bayes import GaussianNB\n",
    "\n",
    "nb = GaussianNB()\n",
    "\n",
    "nb.fit(X_train,Y_train)\n",
    "\n",
    "Y_pred_nb = nb.predict(X_test)"
   ]
  },
  {
   "cell_type": "code",
   "execution_count": 44,
   "metadata": {},
   "outputs": [
    {
     "data": {
      "text/plain": [
       "(61,)"
      ]
     },
     "execution_count": 44,
     "metadata": {},
     "output_type": "execute_result"
    }
   ],
   "source": [
    "Y_pred_nb.shape"
   ]
  },
  {
   "cell_type": "code",
   "execution_count": 45,
   "metadata": {},
   "outputs": [
    {
     "name": "stdout",
     "output_type": "stream",
     "text": [
      "The accuracy score achieved using Naive Bayes is: 85.25 %\n"
     ]
    }
   ],
   "source": [
    "score_nb = round(accuracy_score(Y_pred_nb,Y_test)*100,2)\n",
    "\n",
    "print(\"The accuracy score achieved using Naive Bayes is: \"+str(score_nb)+\" %\")"
   ]
  },
  {
   "cell_type": "markdown",
   "metadata": {},
   "source": [
    "### Decision Tree"
   ]
  },
  {
   "cell_type": "code",
   "execution_count": 46,
   "metadata": {},
   "outputs": [],
   "source": [
    "from sklearn.tree import DecisionTreeClassifier , export_graphviz\n",
    "\n",
    "max_accuracy = 0\n",
    "\n",
    "\n",
    "for x in range(15):\n",
    "    dt = DecisionTreeClassifier(criterion =\"entropy\", random_state=x)\n",
    "    dt.fit(X_train,Y_train)\n",
    "    Y_pred_dt = dt.predict(X_test)\n",
    "    current_accuracy = round(accuracy_score(Y_pred_dt,Y_test)*100,2)\n",
    "    if(current_accuracy>max_accuracy):\n",
    "        max_accuracy = current_accuracy\n",
    "        best_x = x\n",
    "        \n",
    "#print(max_accuracy)\n",
    "#print(best_x)\n"
   ]
  },
  {
   "cell_type": "code",
   "execution_count": 47,
   "metadata": {},
   "outputs": [],
   "source": [
    "dt = DecisionTreeClassifier(random_state=best_x)\n",
    "dt.fit(X_train,Y_train)\n",
    "Y_pred_dt = dt.predict(X_test)"
   ]
  },
  {
   "cell_type": "code",
   "execution_count": 48,
   "metadata": {},
   "outputs": [
    {
     "name": "stdout",
     "output_type": "stream",
     "text": [
      "(61,)\n"
     ]
    }
   ],
   "source": [
    "print(Y_pred_dt.shape)"
   ]
  },
  {
   "cell_type": "code",
   "execution_count": 49,
   "metadata": {},
   "outputs": [
    {
     "name": "stdout",
     "output_type": "stream",
     "text": [
      "The accuracy score achieved using Decision Tree is: 75.41 %\n"
     ]
    }
   ],
   "source": [
    "score_dt = round(accuracy_score(Y_pred_dt,Y_test)*100,2)\n",
    "\n",
    "print(\"The accuracy score achieved using Decision Tree is: \"+str(score_dt)+\" %\")\n"
   ]
  },
  {
   "cell_type": "code",
   "execution_count": 50,
   "metadata": {},
   "outputs": [
    {
     "data": {
      "text/plain": [
       "'g1.dot.pdf'"
      ]
     },
     "execution_count": 50,
     "metadata": {},
     "output_type": "execute_result"
    }
   ],
   "source": [
    "import graphviz \n",
    "dot_data = export_graphviz(dt ,  feature_names= X_train.columns , class_names=['heart dis..','No heart dis..'] , filled=True, rounded=True,special_characters=True)\n",
    "graph = graphviz.Source(dot_data) \n",
    "graph.render(filename='g1.dot')\n",
    "#graph"
   ]
  },
  {
   "cell_type": "markdown",
   "metadata": {},
   "source": [
    "### Random Forest "
   ]
  },
  {
   "cell_type": "code",
   "execution_count": 51,
   "metadata": {},
   "outputs": [
    {
     "name": "stdout",
     "output_type": "stream",
     "text": [
      "88.52\n",
      "0\n"
     ]
    }
   ],
   "source": [
    "from sklearn.ensemble import RandomForestClassifier\n",
    "\n",
    "max_accuracy = 0\n",
    "\n",
    "\n",
    "for x in range(20):\n",
    "    rf = RandomForestClassifier(random_state=x)\n",
    "    rf.fit(X_train,Y_train)\n",
    "    Y_pred_rf = rf.predict(X_test)\n",
    "    current_accuracy = round(accuracy_score(Y_pred_rf,Y_test)*100,2)\n",
    "    if(current_accuracy>max_accuracy):\n",
    "        max_accuracy = current_accuracy\n",
    "        best_x = x\n",
    "    #print(current_accuracy)\n",
    "    #print(x)\n",
    "        \n",
    "print(max_accuracy)\n",
    "print(best_x)"
   ]
  },
  {
   "cell_type": "code",
   "execution_count": 52,
   "metadata": {},
   "outputs": [],
   "source": [
    "rf = RandomForestClassifier(random_state=best_x)\n",
    "rf.fit(X_train,Y_train)\n",
    "Y_pred_rf = rf.predict(X_test)"
   ]
  },
  {
   "cell_type": "code",
   "execution_count": 53,
   "metadata": {},
   "outputs": [
    {
     "data": {
      "text/plain": [
       "(61,)"
      ]
     },
     "execution_count": 53,
     "metadata": {},
     "output_type": "execute_result"
    }
   ],
   "source": [
    "Y_pred_rf.shape"
   ]
  },
  {
   "cell_type": "code",
   "execution_count": 54,
   "metadata": {},
   "outputs": [
    {
     "name": "stdout",
     "output_type": "stream",
     "text": [
      "The accuracy score achieved using Decision Tree is: 88.52 %\n"
     ]
    }
   ],
   "source": [
    "score_rf = round(accuracy_score(Y_pred_rf,Y_test)*100,2)\n",
    "\n",
    "print(\"The accuracy score achieved using Decision Tree is: \"+str(score_rf)+\" %\")\n"
   ]
  },
  {
   "cell_type": "markdown",
   "metadata": {},
   "source": [
    "### K Nearest Neighbours"
   ]
  },
  {
   "cell_type": "code",
   "execution_count": 55,
   "metadata": {},
   "outputs": [
    {
     "name": "stdout",
     "output_type": "stream",
     "text": [
      "77.05\n",
      "39\n"
     ]
    }
   ],
   "source": [
    "from sklearn.neighbors import KNeighborsClassifier\n",
    "\n",
    "max_accuracy = 0\n",
    "\n",
    "for x in range(1, 50):\n",
    "    knn = KNeighborsClassifier(n_neighbors=x)\n",
    "    knn.fit(X_train,Y_train)\n",
    "    Y_pred_knn = knn.predict(X_test)\n",
    "    current_accuracy = round(accuracy_score(Y_pred_knn,Y_test)*100,2)\n",
    "    if(current_accuracy>max_accuracy):\n",
    "        max_accuracy = current_accuracy\n",
    "        best_x = x\n",
    "    #print(current_accuracy)\n",
    "    #print(x)\n",
    "        \n",
    "print(max_accuracy)\n",
    "print(best_x)\n",
    "\n",
    "knn = KNeighborsClassifier(n_neighbors=best_x)\n",
    "knn.fit(X_train,Y_train)\n",
    "Y_pred_knn=knn.predict(X_test)"
   ]
  },
  {
   "cell_type": "code",
   "execution_count": 56,
   "metadata": {},
   "outputs": [
    {
     "data": {
      "text/plain": [
       "(61,)"
      ]
     },
     "execution_count": 56,
     "metadata": {},
     "output_type": "execute_result"
    }
   ],
   "source": [
    "Y_pred_knn.shape"
   ]
  },
  {
   "cell_type": "code",
   "execution_count": 57,
   "metadata": {},
   "outputs": [
    {
     "name": "stdout",
     "output_type": "stream",
     "text": [
      "The accuracy score achieved using KNN is: 77.05 %\n"
     ]
    }
   ],
   "source": [
    "score_knn = round(accuracy_score(Y_pred_knn,Y_test)*100,2)\n",
    "\n",
    "print(\"The accuracy score achieved using KNN is: \"+str(score_knn)+\" %\")"
   ]
  },
  {
   "cell_type": "markdown",
   "metadata": {},
   "source": [
    "### Support Vector machine"
   ]
  },
  {
   "cell_type": "code",
   "execution_count": 58,
   "metadata": {},
   "outputs": [],
   "source": [
    "from sklearn import svm\n",
    "\n",
    "sv = svm.SVC(kernel='linear')\n",
    "sv.fit(X_train, Y_train)\n",
    "Y_pred_svm = sv.predict(X_test)"
   ]
  },
  {
   "cell_type": "code",
   "execution_count": 59,
   "metadata": {},
   "outputs": [
    {
     "data": {
      "text/plain": [
       "(61,)"
      ]
     },
     "execution_count": 59,
     "metadata": {},
     "output_type": "execute_result"
    }
   ],
   "source": [
    "Y_pred_svm.shape"
   ]
  },
  {
   "cell_type": "code",
   "execution_count": 60,
   "metadata": {},
   "outputs": [
    {
     "name": "stdout",
     "output_type": "stream",
     "text": [
      "The accuracy score achieved using Linear SVM is: 81.97 %\n"
     ]
    }
   ],
   "source": [
    "score_svm = round(accuracy_score(Y_pred_svm,Y_test)*100,2)\n",
    "\n",
    "print(\"The accuracy score achieved using Linear SVM is: \"+str(score_svm)+\" %\")\n"
   ]
  },
  {
   "cell_type": "markdown",
   "metadata": {},
   "source": [
    "### Neural Network"
   ]
  },
  {
   "cell_type": "code",
   "execution_count": 61,
   "metadata": {},
   "outputs": [
    {
     "name": "stdout",
     "output_type": "stream",
     "text": [
      "(242, 13) (242,)\n",
      "(242, 13) (61,)\n",
      "Index(['age', 'sex', 'cp', 'trestbps', 'chol', 'fbs', 'restecg', 'thalach',\n",
      "       'exang', 'oldpeak', 'slope', 'ca', 'thal', 'target'],\n",
      "      dtype='object')\n"
     ]
    }
   ],
   "source": [
    "from sklearn.preprocessing import StandardScaler \n",
    "sc = StandardScaler()\n",
    "\n",
    "# normalize data\n",
    "X_train_scaled = sc.fit_transform(X_train)\n",
    "X_train = pd.DataFrame(X_train_scaled)\n",
    "X_test_scaled = sc.fit_transform(X_test)\n",
    "X_test = pd.DataFrame(X_test_scaled)\n",
    "\n",
    "print (X_train.shape, Y_train.shape)\n",
    "print (X_train.shape, Y_test.shape)\n",
    "print (dataset.columns)"
   ]
  },
  {
   "cell_type": "code",
   "execution_count": 62,
   "metadata": {},
   "outputs": [
    {
     "name": "stderr",
     "output_type": "stream",
     "text": [
      "Using TensorFlow backend.\n"
     ]
    }
   ],
   "source": [
    "from keras.models import Sequential\n",
    "from keras.layers import Dense\n"
   ]
  },
  {
   "cell_type": "code",
   "execution_count": 63,
   "metadata": {},
   "outputs": [
    {
     "name": "stderr",
     "output_type": "stream",
     "text": [
      "/usr/lib/python3/dist-packages/ipykernel_launcher.py:4: UserWarning: Update your `Dense` call to the Keras 2 API: `Dense(22, activation=\"relu\", input_dim=13, kernel_initializer=\"uniform\")`\n",
      "  after removing the cwd from sys.path.\n",
      "/usr/lib/python3/dist-packages/ipykernel_launcher.py:7: UserWarning: Update your `Dense` call to the Keras 2 API: `Dense(11, activation=\"relu\", kernel_initializer=\"uniform\")`\n",
      "  import sys\n",
      "/usr/lib/python3/dist-packages/ipykernel_launcher.py:10: UserWarning: Update your `Dense` call to the Keras 2 API: `Dense(1, activation=\"sigmoid\", kernel_initializer=\"uniform\")`\n",
      "  # Remove the CWD from sys.path while we load stuff.\n"
     ]
    }
   ],
   "source": [
    "classifier = Sequential()\n",
    "\n",
    "# Adding the input layer and the first hidden layer\n",
    "classifier.add(Dense(22, init = 'uniform', activation = 'relu', input_dim = 13))\n",
    "\n",
    "# Adding the second hidden layer\n",
    "classifier.add(Dense(11, init = 'uniform', activation = 'relu'))\n",
    "\n",
    "# Adding the output layer\n",
    "classifier.add(Dense(1, init = 'uniform', activation = 'sigmoid'))\n",
    "\n",
    "# Compiling the ANN\n",
    "classifier.compile(optimizer = 'adam', loss = 'binary_crossentropy', metrics = ['accuracy'])\n"
   ]
  },
  {
   "cell_type": "code",
   "execution_count": 64,
   "metadata": {},
   "outputs": [
    {
     "name": "stdout",
     "output_type": "stream",
     "text": [
      "Train on 242 samples, validate on 61 samples\n",
      "Epoch 1/170\n",
      "242/242 [==============================] - 0s 893us/step - loss: 0.6929 - acc: 0.5455 - val_loss: 0.6924 - val_acc: 0.5574\n",
      "Epoch 2/170\n",
      "242/242 [==============================] - 0s 97us/step - loss: 0.6922 - acc: 0.5413 - val_loss: 0.6914 - val_acc: 0.5574\n",
      "Epoch 3/170\n",
      "242/242 [==============================] - 0s 86us/step - loss: 0.6910 - acc: 0.5413 - val_loss: 0.6894 - val_acc: 0.5738\n",
      "Epoch 4/170\n",
      "242/242 [==============================] - 0s 96us/step - loss: 0.6887 - acc: 0.6281 - val_loss: 0.6860 - val_acc: 0.7213\n",
      "Epoch 5/170\n",
      "242/242 [==============================] - 0s 87us/step - loss: 0.6848 - acc: 0.7686 - val_loss: 0.6800 - val_acc: 0.8197\n",
      "Epoch 6/170\n",
      "242/242 [==============================] - 0s 90us/step - loss: 0.6779 - acc: 0.8140 - val_loss: 0.6704 - val_acc: 0.8033\n",
      "Epoch 7/170\n",
      "242/242 [==============================] - 0s 93us/step - loss: 0.6671 - acc: 0.8264 - val_loss: 0.6556 - val_acc: 0.8197\n",
      "Epoch 8/170\n",
      "242/242 [==============================] - 0s 89us/step - loss: 0.6512 - acc: 0.8223 - val_loss: 0.6348 - val_acc: 0.8525\n",
      "Epoch 9/170\n",
      "242/242 [==============================] - 0s 90us/step - loss: 0.6295 - acc: 0.8264 - val_loss: 0.6073 - val_acc: 0.8689\n",
      "Epoch 10/170\n",
      "242/242 [==============================] - 0s 96us/step - loss: 0.6027 - acc: 0.8264 - val_loss: 0.5734 - val_acc: 0.8689\n",
      "Epoch 11/170\n",
      "242/242 [==============================] - 0s 115us/step - loss: 0.5694 - acc: 0.8306 - val_loss: 0.5354 - val_acc: 0.8689\n",
      "Epoch 12/170\n",
      "242/242 [==============================] - 0s 82us/step - loss: 0.5329 - acc: 0.8264 - val_loss: 0.4966 - val_acc: 0.8689\n",
      "Epoch 13/170\n",
      "242/242 [==============================] - 0s 97us/step - loss: 0.4968 - acc: 0.8388 - val_loss: 0.4574 - val_acc: 0.8689\n",
      "Epoch 14/170\n",
      "242/242 [==============================] - 0s 88us/step - loss: 0.4626 - acc: 0.8430 - val_loss: 0.4216 - val_acc: 0.8689\n",
      "Epoch 15/170\n",
      "242/242 [==============================] - 0s 107us/step - loss: 0.4323 - acc: 0.8471 - val_loss: 0.3928 - val_acc: 0.8689\n",
      "Epoch 16/170\n",
      "242/242 [==============================] - 0s 91us/step - loss: 0.4076 - acc: 0.8471 - val_loss: 0.3713 - val_acc: 0.8689\n",
      "Epoch 17/170\n",
      "242/242 [==============================] - 0s 94us/step - loss: 0.3904 - acc: 0.8471 - val_loss: 0.3553 - val_acc: 0.8689\n",
      "Epoch 18/170\n",
      "242/242 [==============================] - 0s 72us/step - loss: 0.3762 - acc: 0.8471 - val_loss: 0.3450 - val_acc: 0.8361\n",
      "Epoch 19/170\n",
      "242/242 [==============================] - 0s 94us/step - loss: 0.3678 - acc: 0.8471 - val_loss: 0.3384 - val_acc: 0.8689\n",
      "Epoch 20/170\n",
      "242/242 [==============================] - 0s 97us/step - loss: 0.3617 - acc: 0.8471 - val_loss: 0.3350 - val_acc: 0.8689\n",
      "Epoch 21/170\n",
      "242/242 [==============================] - 0s 110us/step - loss: 0.3560 - acc: 0.8471 - val_loss: 0.3341 - val_acc: 0.8689\n",
      "Epoch 22/170\n",
      "242/242 [==============================] - 0s 103us/step - loss: 0.3523 - acc: 0.8471 - val_loss: 0.3338 - val_acc: 0.8689\n",
      "Epoch 23/170\n",
      "242/242 [==============================] - 0s 106us/step - loss: 0.3496 - acc: 0.8471 - val_loss: 0.3326 - val_acc: 0.8689\n",
      "Epoch 24/170\n",
      "242/242 [==============================] - 0s 100us/step - loss: 0.3474 - acc: 0.8471 - val_loss: 0.3341 - val_acc: 0.8689\n",
      "Epoch 25/170\n",
      "242/242 [==============================] - 0s 110us/step - loss: 0.3447 - acc: 0.8471 - val_loss: 0.3336 - val_acc: 0.8689\n",
      "Epoch 26/170\n",
      "242/242 [==============================] - 0s 90us/step - loss: 0.3432 - acc: 0.8512 - val_loss: 0.3331 - val_acc: 0.8689\n",
      "Epoch 27/170\n",
      "242/242 [==============================] - 0s 93us/step - loss: 0.3412 - acc: 0.8595 - val_loss: 0.3339 - val_acc: 0.8852\n",
      "Epoch 28/170\n",
      "242/242 [==============================] - 0s 91us/step - loss: 0.3395 - acc: 0.8595 - val_loss: 0.3335 - val_acc: 0.8852\n",
      "Epoch 29/170\n",
      "242/242 [==============================] - 0s 81us/step - loss: 0.3375 - acc: 0.8595 - val_loss: 0.3336 - val_acc: 0.8852\n",
      "Epoch 30/170\n",
      "242/242 [==============================] - 0s 107us/step - loss: 0.3360 - acc: 0.8636 - val_loss: 0.3343 - val_acc: 0.8852\n",
      "Epoch 31/170\n",
      "242/242 [==============================] - 0s 102us/step - loss: 0.3339 - acc: 0.8636 - val_loss: 0.3354 - val_acc: 0.8852\n",
      "Epoch 32/170\n",
      "242/242 [==============================] - 0s 105us/step - loss: 0.3328 - acc: 0.8636 - val_loss: 0.3353 - val_acc: 0.8852\n",
      "Epoch 33/170\n",
      "242/242 [==============================] - 0s 100us/step - loss: 0.3307 - acc: 0.8636 - val_loss: 0.3365 - val_acc: 0.8852\n",
      "Epoch 34/170\n",
      "242/242 [==============================] - 0s 94us/step - loss: 0.3296 - acc: 0.8636 - val_loss: 0.3365 - val_acc: 0.8852\n",
      "Epoch 35/170\n",
      "242/242 [==============================] - 0s 93us/step - loss: 0.3284 - acc: 0.8636 - val_loss: 0.3361 - val_acc: 0.8852\n",
      "Epoch 36/170\n",
      "242/242 [==============================] - 0s 92us/step - loss: 0.3267 - acc: 0.8719 - val_loss: 0.3359 - val_acc: 0.8852\n",
      "Epoch 37/170\n",
      "242/242 [==============================] - 0s 103us/step - loss: 0.3249 - acc: 0.8760 - val_loss: 0.3362 - val_acc: 0.8852\n",
      "Epoch 38/170\n",
      "242/242 [==============================] - 0s 88us/step - loss: 0.3236 - acc: 0.8760 - val_loss: 0.3372 - val_acc: 0.8852\n",
      "Epoch 39/170\n",
      "242/242 [==============================] - 0s 115us/step - loss: 0.3231 - acc: 0.8760 - val_loss: 0.3379 - val_acc: 0.8852\n",
      "Epoch 40/170\n",
      "242/242 [==============================] - 0s 93us/step - loss: 0.3217 - acc: 0.8719 - val_loss: 0.3389 - val_acc: 0.8852\n",
      "Epoch 41/170\n",
      "242/242 [==============================] - 0s 104us/step - loss: 0.3197 - acc: 0.8760 - val_loss: 0.3378 - val_acc: 0.8852\n",
      "Epoch 42/170\n",
      "242/242 [==============================] - 0s 104us/step - loss: 0.3186 - acc: 0.8760 - val_loss: 0.3383 - val_acc: 0.8852\n",
      "Epoch 43/170\n",
      "242/242 [==============================] - 0s 102us/step - loss: 0.3177 - acc: 0.8760 - val_loss: 0.3376 - val_acc: 0.8852\n",
      "Epoch 44/170\n",
      "242/242 [==============================] - 0s 83us/step - loss: 0.3160 - acc: 0.8760 - val_loss: 0.3378 - val_acc: 0.8852\n",
      "Epoch 45/170\n",
      "242/242 [==============================] - 0s 101us/step - loss: 0.3145 - acc: 0.8760 - val_loss: 0.3374 - val_acc: 0.8852\n",
      "Epoch 46/170\n",
      "242/242 [==============================] - 0s 90us/step - loss: 0.3136 - acc: 0.8760 - val_loss: 0.3369 - val_acc: 0.8852\n",
      "Epoch 47/170\n",
      "242/242 [==============================] - 0s 89us/step - loss: 0.3125 - acc: 0.8760 - val_loss: 0.3373 - val_acc: 0.8852\n",
      "Epoch 48/170\n",
      "242/242 [==============================] - 0s 95us/step - loss: 0.3114 - acc: 0.8802 - val_loss: 0.3381 - val_acc: 0.8852\n",
      "Epoch 49/170\n",
      "242/242 [==============================] - 0s 109us/step - loss: 0.3105 - acc: 0.8802 - val_loss: 0.3386 - val_acc: 0.8852\n",
      "Epoch 50/170\n",
      "242/242 [==============================] - 0s 113us/step - loss: 0.3092 - acc: 0.8843 - val_loss: 0.3391 - val_acc: 0.8852\n",
      "Epoch 51/170\n",
      "242/242 [==============================] - 0s 127us/step - loss: 0.3086 - acc: 0.8802 - val_loss: 0.3402 - val_acc: 0.8852\n",
      "Epoch 52/170\n",
      "242/242 [==============================] - 0s 99us/step - loss: 0.3071 - acc: 0.8802 - val_loss: 0.3405 - val_acc: 0.8852\n",
      "Epoch 53/170\n",
      "242/242 [==============================] - 0s 92us/step - loss: 0.3065 - acc: 0.8802 - val_loss: 0.3407 - val_acc: 0.8852\n",
      "Epoch 54/170\n",
      "242/242 [==============================] - 0s 97us/step - loss: 0.3053 - acc: 0.8884 - val_loss: 0.3398 - val_acc: 0.8852\n",
      "Epoch 55/170\n",
      "242/242 [==============================] - 0s 97us/step - loss: 0.3046 - acc: 0.8884 - val_loss: 0.3398 - val_acc: 0.8852\n",
      "Epoch 56/170\n",
      "242/242 [==============================] - 0s 97us/step - loss: 0.3040 - acc: 0.8884 - val_loss: 0.3410 - val_acc: 0.8852\n",
      "Epoch 57/170\n",
      "242/242 [==============================] - 0s 92us/step - loss: 0.3028 - acc: 0.8884 - val_loss: 0.3412 - val_acc: 0.8852\n",
      "Epoch 58/170\n",
      "242/242 [==============================] - 0s 93us/step - loss: 0.3020 - acc: 0.8884 - val_loss: 0.3404 - val_acc: 0.8852\n",
      "Epoch 59/170\n",
      "242/242 [==============================] - 0s 94us/step - loss: 0.3009 - acc: 0.8884 - val_loss: 0.3409 - val_acc: 0.8852\n",
      "Epoch 60/170\n",
      "242/242 [==============================] - 0s 110us/step - loss: 0.3005 - acc: 0.8884 - val_loss: 0.3421 - val_acc: 0.8852\n",
      "Epoch 61/170\n",
      "242/242 [==============================] - 0s 128us/step - loss: 0.2997 - acc: 0.8884 - val_loss: 0.3425 - val_acc: 0.8852\n",
      "Epoch 62/170\n",
      "242/242 [==============================] - 0s 91us/step - loss: 0.2988 - acc: 0.8884 - val_loss: 0.3423 - val_acc: 0.8852\n",
      "Epoch 63/170\n",
      "242/242 [==============================] - 0s 98us/step - loss: 0.2979 - acc: 0.8884 - val_loss: 0.3433 - val_acc: 0.8852\n",
      "Epoch 64/170\n",
      "242/242 [==============================] - 0s 90us/step - loss: 0.2973 - acc: 0.8884 - val_loss: 0.3437 - val_acc: 0.8852\n",
      "Epoch 65/170\n",
      "242/242 [==============================] - 0s 88us/step - loss: 0.2960 - acc: 0.8884 - val_loss: 0.3436 - val_acc: 0.8852\n",
      "Epoch 66/170\n",
      "242/242 [==============================] - 0s 104us/step - loss: 0.2954 - acc: 0.8884 - val_loss: 0.3425 - val_acc: 0.8852\n",
      "Epoch 67/170\n",
      "242/242 [==============================] - 0s 98us/step - loss: 0.2945 - acc: 0.8884 - val_loss: 0.3424 - val_acc: 0.8852\n",
      "Epoch 68/170\n",
      "242/242 [==============================] - 0s 83us/step - loss: 0.2937 - acc: 0.8884 - val_loss: 0.3428 - val_acc: 0.8852\n",
      "Epoch 69/170\n",
      "242/242 [==============================] - 0s 92us/step - loss: 0.2927 - acc: 0.8884 - val_loss: 0.3420 - val_acc: 0.8852\n",
      "Epoch 70/170\n",
      "242/242 [==============================] - 0s 88us/step - loss: 0.2921 - acc: 0.8884 - val_loss: 0.3424 - val_acc: 0.8852\n",
      "Epoch 71/170\n",
      "242/242 [==============================] - 0s 94us/step - loss: 0.2911 - acc: 0.8884 - val_loss: 0.3438 - val_acc: 0.8852\n",
      "Epoch 72/170\n",
      "242/242 [==============================] - 0s 106us/step - loss: 0.2908 - acc: 0.8884 - val_loss: 0.3428 - val_acc: 0.9016\n",
      "Epoch 73/170\n",
      "242/242 [==============================] - 0s 92us/step - loss: 0.2894 - acc: 0.8884 - val_loss: 0.3426 - val_acc: 0.8852\n",
      "Epoch 74/170\n",
      "242/242 [==============================] - 0s 102us/step - loss: 0.2888 - acc: 0.8884 - val_loss: 0.3430 - val_acc: 0.8852\n",
      "Epoch 75/170\n",
      "242/242 [==============================] - 0s 101us/step - loss: 0.2880 - acc: 0.8884 - val_loss: 0.3425 - val_acc: 0.8852\n",
      "Epoch 76/170\n",
      "242/242 [==============================] - 0s 97us/step - loss: 0.2872 - acc: 0.8884 - val_loss: 0.3437 - val_acc: 0.8852\n",
      "Epoch 77/170\n",
      "242/242 [==============================] - 0s 109us/step - loss: 0.2864 - acc: 0.8884 - val_loss: 0.3437 - val_acc: 0.8852\n",
      "Epoch 78/170\n",
      "242/242 [==============================] - 0s 113us/step - loss: 0.2856 - acc: 0.8884 - val_loss: 0.3438 - val_acc: 0.8852\n",
      "Epoch 79/170\n",
      "242/242 [==============================] - 0s 97us/step - loss: 0.2849 - acc: 0.8884 - val_loss: 0.3440 - val_acc: 0.8852\n",
      "Epoch 80/170\n",
      "242/242 [==============================] - 0s 88us/step - loss: 0.2846 - acc: 0.8884 - val_loss: 0.3434 - val_acc: 0.8852\n",
      "Epoch 81/170\n",
      "242/242 [==============================] - 0s 102us/step - loss: 0.2834 - acc: 0.8884 - val_loss: 0.3430 - val_acc: 0.9016\n",
      "Epoch 82/170\n",
      "242/242 [==============================] - 0s 95us/step - loss: 0.2829 - acc: 0.8884 - val_loss: 0.3429 - val_acc: 0.8852\n",
      "Epoch 83/170\n",
      "242/242 [==============================] - 0s 100us/step - loss: 0.2826 - acc: 0.8884 - val_loss: 0.3444 - val_acc: 0.9016\n",
      "Epoch 84/170\n",
      "242/242 [==============================] - 0s 92us/step - loss: 0.2816 - acc: 0.8884 - val_loss: 0.3429 - val_acc: 0.8852\n",
      "Epoch 85/170\n",
      "242/242 [==============================] - 0s 105us/step - loss: 0.2809 - acc: 0.8884 - val_loss: 0.3434 - val_acc: 0.8852\n",
      "Epoch 86/170\n",
      "242/242 [==============================] - 0s 99us/step - loss: 0.2803 - acc: 0.8884 - val_loss: 0.3446 - val_acc: 0.8852\n",
      "Epoch 87/170\n",
      "242/242 [==============================] - 0s 106us/step - loss: 0.2796 - acc: 0.8926 - val_loss: 0.3445 - val_acc: 0.8852\n",
      "Epoch 88/170\n",
      "242/242 [==============================] - 0s 104us/step - loss: 0.2788 - acc: 0.8926 - val_loss: 0.3457 - val_acc: 0.8852\n",
      "Epoch 89/170\n",
      "242/242 [==============================] - 0s 97us/step - loss: 0.2786 - acc: 0.8926 - val_loss: 0.3464 - val_acc: 0.8852\n",
      "Epoch 90/170\n",
      "242/242 [==============================] - 0s 93us/step - loss: 0.2776 - acc: 0.8926 - val_loss: 0.3469 - val_acc: 0.9016\n",
      "Epoch 91/170\n",
      "242/242 [==============================] - 0s 112us/step - loss: 0.2771 - acc: 0.8926 - val_loss: 0.3463 - val_acc: 0.9016\n",
      "Epoch 92/170\n",
      "242/242 [==============================] - 0s 98us/step - loss: 0.2761 - acc: 0.8926 - val_loss: 0.3467 - val_acc: 0.9016\n",
      "Epoch 93/170\n",
      "242/242 [==============================] - 0s 172us/step - loss: 0.2755 - acc: 0.8926 - val_loss: 0.3464 - val_acc: 0.9016\n",
      "Epoch 94/170\n",
      "242/242 [==============================] - 0s 98us/step - loss: 0.2748 - acc: 0.8926 - val_loss: 0.3475 - val_acc: 0.8852\n",
      "Epoch 95/170\n",
      "242/242 [==============================] - 0s 110us/step - loss: 0.2746 - acc: 0.8926 - val_loss: 0.3489 - val_acc: 0.8852\n",
      "Epoch 96/170\n",
      "242/242 [==============================] - 0s 102us/step - loss: 0.2734 - acc: 0.8926 - val_loss: 0.3489 - val_acc: 0.8852\n",
      "Epoch 97/170\n",
      "242/242 [==============================] - 0s 99us/step - loss: 0.2729 - acc: 0.8926 - val_loss: 0.3484 - val_acc: 0.8852\n",
      "Epoch 98/170\n",
      "242/242 [==============================] - 0s 106us/step - loss: 0.2723 - acc: 0.8926 - val_loss: 0.3478 - val_acc: 0.8852\n",
      "Epoch 99/170\n",
      "242/242 [==============================] - 0s 97us/step - loss: 0.2715 - acc: 0.8926 - val_loss: 0.3479 - val_acc: 0.9016\n",
      "Epoch 100/170\n",
      "242/242 [==============================] - 0s 99us/step - loss: 0.2708 - acc: 0.8926 - val_loss: 0.3477 - val_acc: 0.8852\n",
      "Epoch 101/170\n",
      "242/242 [==============================] - 0s 91us/step - loss: 0.2700 - acc: 0.8926 - val_loss: 0.3478 - val_acc: 0.8852\n",
      "Epoch 102/170\n",
      "242/242 [==============================] - 0s 105us/step - loss: 0.2691 - acc: 0.8926 - val_loss: 0.3479 - val_acc: 0.8852\n",
      "Epoch 103/170\n",
      "242/242 [==============================] - 0s 108us/step - loss: 0.2689 - acc: 0.8967 - val_loss: 0.3483 - val_acc: 0.9016\n",
      "Epoch 104/170\n",
      "242/242 [==============================] - 0s 101us/step - loss: 0.2678 - acc: 0.9008 - val_loss: 0.3482 - val_acc: 0.9016\n",
      "Epoch 105/170\n",
      "242/242 [==============================] - 0s 104us/step - loss: 0.2670 - acc: 0.9008 - val_loss: 0.3473 - val_acc: 0.9016\n",
      "Epoch 106/170\n",
      "242/242 [==============================] - 0s 110us/step - loss: 0.2664 - acc: 0.9008 - val_loss: 0.3482 - val_acc: 0.9016\n",
      "Epoch 107/170\n",
      "242/242 [==============================] - 0s 110us/step - loss: 0.2658 - acc: 0.9008 - val_loss: 0.3486 - val_acc: 0.8852\n",
      "Epoch 108/170\n",
      "242/242 [==============================] - 0s 93us/step - loss: 0.2649 - acc: 0.9008 - val_loss: 0.3480 - val_acc: 0.8852\n",
      "Epoch 109/170\n",
      "242/242 [==============================] - 0s 88us/step - loss: 0.2642 - acc: 0.9008 - val_loss: 0.3483 - val_acc: 0.9016\n",
      "Epoch 110/170\n",
      "242/242 [==============================] - 0s 106us/step - loss: 0.2638 - acc: 0.9008 - val_loss: 0.3487 - val_acc: 0.8852\n",
      "Epoch 111/170\n",
      "242/242 [==============================] - 0s 95us/step - loss: 0.2627 - acc: 0.9008 - val_loss: 0.3478 - val_acc: 0.9016\n",
      "Epoch 112/170\n",
      "242/242 [==============================] - 0s 121us/step - loss: 0.2624 - acc: 0.9050 - val_loss: 0.3481 - val_acc: 0.9016\n",
      "Epoch 113/170\n",
      "242/242 [==============================] - 0s 91us/step - loss: 0.2613 - acc: 0.9050 - val_loss: 0.3467 - val_acc: 0.9016\n",
      "Epoch 114/170\n",
      "242/242 [==============================] - 0s 98us/step - loss: 0.2608 - acc: 0.9050 - val_loss: 0.3459 - val_acc: 0.9016\n",
      "Epoch 115/170\n",
      "242/242 [==============================] - 0s 106us/step - loss: 0.2605 - acc: 0.9050 - val_loss: 0.3459 - val_acc: 0.9180\n",
      "Epoch 116/170\n",
      "242/242 [==============================] - 0s 112us/step - loss: 0.2596 - acc: 0.9050 - val_loss: 0.3463 - val_acc: 0.9180\n",
      "Epoch 117/170\n",
      "242/242 [==============================] - 0s 112us/step - loss: 0.2589 - acc: 0.9008 - val_loss: 0.3470 - val_acc: 0.9016\n",
      "Epoch 118/170\n",
      "242/242 [==============================] - 0s 101us/step - loss: 0.2581 - acc: 0.9008 - val_loss: 0.3461 - val_acc: 0.9016\n",
      "Epoch 119/170\n",
      "242/242 [==============================] - 0s 114us/step - loss: 0.2572 - acc: 0.9008 - val_loss: 0.3470 - val_acc: 0.9016\n",
      "Epoch 120/170\n",
      "242/242 [==============================] - 0s 93us/step - loss: 0.2566 - acc: 0.9050 - val_loss: 0.3477 - val_acc: 0.9016\n",
      "Epoch 121/170\n"
     ]
    },
    {
     "name": "stdout",
     "output_type": "stream",
     "text": [
      "242/242 [==============================] - 0s 96us/step - loss: 0.2559 - acc: 0.9050 - val_loss: 0.3463 - val_acc: 0.9016\n",
      "Epoch 122/170\n",
      "242/242 [==============================] - 0s 96us/step - loss: 0.2553 - acc: 0.9050 - val_loss: 0.3475 - val_acc: 0.9016\n",
      "Epoch 123/170\n",
      "242/242 [==============================] - 0s 96us/step - loss: 0.2542 - acc: 0.9091 - val_loss: 0.3480 - val_acc: 0.9016\n",
      "Epoch 124/170\n",
      "242/242 [==============================] - 0s 92us/step - loss: 0.2540 - acc: 0.9091 - val_loss: 0.3487 - val_acc: 0.9180\n",
      "Epoch 125/170\n",
      "242/242 [==============================] - 0s 118us/step - loss: 0.2530 - acc: 0.9091 - val_loss: 0.3478 - val_acc: 0.9180\n",
      "Epoch 126/170\n",
      "242/242 [==============================] - 0s 104us/step - loss: 0.2525 - acc: 0.9091 - val_loss: 0.3476 - val_acc: 0.9180\n",
      "Epoch 127/170\n",
      "242/242 [==============================] - 0s 101us/step - loss: 0.2518 - acc: 0.9091 - val_loss: 0.3484 - val_acc: 0.9180\n",
      "Epoch 128/170\n",
      "242/242 [==============================] - 0s 104us/step - loss: 0.2510 - acc: 0.9091 - val_loss: 0.3484 - val_acc: 0.9016\n",
      "Epoch 129/170\n",
      "242/242 [==============================] - 0s 145us/step - loss: 0.2500 - acc: 0.9091 - val_loss: 0.3488 - val_acc: 0.9016\n",
      "Epoch 130/170\n",
      "242/242 [==============================] - 0s 109us/step - loss: 0.2492 - acc: 0.9091 - val_loss: 0.3473 - val_acc: 0.9180\n",
      "Epoch 131/170\n",
      "242/242 [==============================] - 0s 119us/step - loss: 0.2487 - acc: 0.9091 - val_loss: 0.3472 - val_acc: 0.9180\n",
      "Epoch 132/170\n",
      "242/242 [==============================] - 0s 100us/step - loss: 0.2483 - acc: 0.9132 - val_loss: 0.3482 - val_acc: 0.9180\n",
      "Epoch 133/170\n",
      "242/242 [==============================] - 0s 87us/step - loss: 0.2473 - acc: 0.9091 - val_loss: 0.3502 - val_acc: 0.9180\n",
      "Epoch 134/170\n",
      "242/242 [==============================] - 0s 94us/step - loss: 0.2463 - acc: 0.9091 - val_loss: 0.3500 - val_acc: 0.9180\n",
      "Epoch 135/170\n",
      "242/242 [==============================] - 0s 121us/step - loss: 0.2454 - acc: 0.9091 - val_loss: 0.3488 - val_acc: 0.9180\n",
      "Epoch 136/170\n",
      "242/242 [==============================] - 0s 105us/step - loss: 0.2448 - acc: 0.9091 - val_loss: 0.3494 - val_acc: 0.9180\n",
      "Epoch 137/170\n",
      "242/242 [==============================] - 0s 90us/step - loss: 0.2441 - acc: 0.9091 - val_loss: 0.3486 - val_acc: 0.9180\n",
      "Epoch 138/170\n",
      "242/242 [==============================] - 0s 105us/step - loss: 0.2433 - acc: 0.9132 - val_loss: 0.3490 - val_acc: 0.9180\n",
      "Epoch 139/170\n",
      "242/242 [==============================] - 0s 96us/step - loss: 0.2427 - acc: 0.9132 - val_loss: 0.3488 - val_acc: 0.9180\n",
      "Epoch 140/170\n",
      "242/242 [==============================] - 0s 89us/step - loss: 0.2417 - acc: 0.9132 - val_loss: 0.3485 - val_acc: 0.9180\n",
      "Epoch 141/170\n",
      "242/242 [==============================] - 0s 100us/step - loss: 0.2412 - acc: 0.9132 - val_loss: 0.3512 - val_acc: 0.9180\n",
      "Epoch 142/170\n",
      "242/242 [==============================] - 0s 109us/step - loss: 0.2400 - acc: 0.9174 - val_loss: 0.3535 - val_acc: 0.9180\n",
      "Epoch 143/170\n",
      "242/242 [==============================] - 0s 111us/step - loss: 0.2394 - acc: 0.9215 - val_loss: 0.3542 - val_acc: 0.9180\n",
      "Epoch 144/170\n",
      "242/242 [==============================] - 0s 102us/step - loss: 0.2381 - acc: 0.9215 - val_loss: 0.3519 - val_acc: 0.9180\n",
      "Epoch 145/170\n",
      "242/242 [==============================] - 0s 125us/step - loss: 0.2374 - acc: 0.9215 - val_loss: 0.3519 - val_acc: 0.9180\n",
      "Epoch 146/170\n",
      "242/242 [==============================] - 0s 92us/step - loss: 0.2368 - acc: 0.9215 - val_loss: 0.3519 - val_acc: 0.9180\n",
      "Epoch 147/170\n",
      "242/242 [==============================] - 0s 104us/step - loss: 0.2358 - acc: 0.9215 - val_loss: 0.3527 - val_acc: 0.9180\n",
      "Epoch 148/170\n",
      "242/242 [==============================] - 0s 119us/step - loss: 0.2351 - acc: 0.9215 - val_loss: 0.3522 - val_acc: 0.9180\n",
      "Epoch 149/170\n",
      "242/242 [==============================] - 0s 114us/step - loss: 0.2337 - acc: 0.9215 - val_loss: 0.3521 - val_acc: 0.9180\n",
      "Epoch 150/170\n",
      "242/242 [==============================] - 0s 105us/step - loss: 0.2330 - acc: 0.9256 - val_loss: 0.3535 - val_acc: 0.9180\n",
      "Epoch 151/170\n",
      "242/242 [==============================] - 0s 101us/step - loss: 0.2324 - acc: 0.9256 - val_loss: 0.3537 - val_acc: 0.9180\n",
      "Epoch 152/170\n",
      "242/242 [==============================] - 0s 115us/step - loss: 0.2314 - acc: 0.9298 - val_loss: 0.3552 - val_acc: 0.9180\n",
      "Epoch 153/170\n",
      "242/242 [==============================] - 0s 96us/step - loss: 0.2304 - acc: 0.9298 - val_loss: 0.3584 - val_acc: 0.9180\n",
      "Epoch 154/170\n",
      "242/242 [==============================] - 0s 137us/step - loss: 0.2294 - acc: 0.9256 - val_loss: 0.3581 - val_acc: 0.9180\n",
      "Epoch 155/170\n",
      "242/242 [==============================] - 0s 145us/step - loss: 0.2286 - acc: 0.9256 - val_loss: 0.3586 - val_acc: 0.9180\n",
      "Epoch 156/170\n",
      "242/242 [==============================] - 0s 161us/step - loss: 0.2276 - acc: 0.9298 - val_loss: 0.3592 - val_acc: 0.9180\n",
      "Epoch 157/170\n",
      "242/242 [==============================] - 0s 128us/step - loss: 0.2267 - acc: 0.9298 - val_loss: 0.3591 - val_acc: 0.9180\n",
      "Epoch 158/170\n",
      "242/242 [==============================] - 0s 138us/step - loss: 0.2254 - acc: 0.9298 - val_loss: 0.3605 - val_acc: 0.9180\n",
      "Epoch 159/170\n",
      "242/242 [==============================] - 0s 125us/step - loss: 0.2244 - acc: 0.9298 - val_loss: 0.3603 - val_acc: 0.9180\n",
      "Epoch 160/170\n",
      "242/242 [==============================] - 0s 119us/step - loss: 0.2236 - acc: 0.9298 - val_loss: 0.3596 - val_acc: 0.9180\n",
      "Epoch 161/170\n",
      "242/242 [==============================] - ETA: 0s - loss: 0.1163 - acc: 1.000 - 0s 127us/step - loss: 0.2226 - acc: 0.9298 - val_loss: 0.3603 - val_acc: 0.9180\n",
      "Epoch 162/170\n",
      "242/242 [==============================] - 0s 125us/step - loss: 0.2216 - acc: 0.9298 - val_loss: 0.3614 - val_acc: 0.9180\n",
      "Epoch 163/170\n",
      "242/242 [==============================] - 0s 124us/step - loss: 0.2208 - acc: 0.9339 - val_loss: 0.3607 - val_acc: 0.9180\n",
      "Epoch 164/170\n",
      "242/242 [==============================] - 0s 116us/step - loss: 0.2195 - acc: 0.9298 - val_loss: 0.3609 - val_acc: 0.9180\n",
      "Epoch 165/170\n",
      "242/242 [==============================] - 0s 115us/step - loss: 0.2185 - acc: 0.9339 - val_loss: 0.3601 - val_acc: 0.9180\n",
      "Epoch 166/170\n",
      "242/242 [==============================] - 0s 196us/step - loss: 0.2181 - acc: 0.9339 - val_loss: 0.3597 - val_acc: 0.9180\n",
      "Epoch 167/170\n",
      "242/242 [==============================] - 0s 99us/step - loss: 0.2168 - acc: 0.9298 - val_loss: 0.3616 - val_acc: 0.9180\n",
      "Epoch 168/170\n",
      "242/242 [==============================] - 0s 94us/step - loss: 0.2157 - acc: 0.9298 - val_loss: 0.3626 - val_acc: 0.9180\n",
      "Epoch 169/170\n",
      "242/242 [==============================] - 0s 117us/step - loss: 0.2146 - acc: 0.9339 - val_loss: 0.3634 - val_acc: 0.9180\n",
      "Epoch 170/170\n",
      "242/242 [==============================] - 0s 110us/step - loss: 0.2138 - acc: 0.9339 - val_loss: 0.3651 - val_acc: 0.9016\n"
     ]
    }
   ],
   "source": [
    "\n",
    "# fit the model to the training data\n",
    "history= classifier.fit(X_train,Y_train,epochs=170,validation_data=(X_test, Y_test))\n",
    "\n"
   ]
  },
  {
   "cell_type": "code",
   "execution_count": 65,
   "metadata": {},
   "outputs": [],
   "source": [
    "Y_pred_nn = classifier.predict(X_test)"
   ]
  },
  {
   "cell_type": "code",
   "execution_count": 66,
   "metadata": {},
   "outputs": [
    {
     "data": {
      "text/plain": [
       "(61, 1)"
      ]
     },
     "execution_count": 66,
     "metadata": {},
     "output_type": "execute_result"
    }
   ],
   "source": [
    "Y_pred_nn.shape"
   ]
  },
  {
   "cell_type": "code",
   "execution_count": 67,
   "metadata": {},
   "outputs": [],
   "source": [
    "rounded = [round(x[0]) for x in Y_pred_nn]\n",
    "\n",
    "Y_pred_nn = rounded\n"
   ]
  },
  {
   "cell_type": "code",
   "execution_count": 68,
   "metadata": {},
   "outputs": [
    {
     "name": "stdout",
     "output_type": "stream",
     "text": [
      "The accuracy score achieved using Neural Network is: 90.16 %\n"
     ]
    }
   ],
   "source": [
    "score_nn = round(accuracy_score(Y_pred_nn,Y_test)*100,2)\n",
    "\n",
    "print(\"The accuracy score achieved using Neural Network is: \"+str(score_nn)+\" %\")\n"
   ]
  },
  {
   "cell_type": "code",
   "execution_count": null,
   "metadata": {},
   "outputs": [],
   "source": []
  }
 ],
 "metadata": {
  "kernelspec": {
   "display_name": "Python 3",
   "language": "python",
   "name": "python3"
  },
  "language_info": {
   "codemirror_mode": {
    "name": "ipython",
    "version": 3
   },
   "file_extension": ".py",
   "mimetype": "text/x-python",
   "name": "python",
   "nbconvert_exporter": "python",
   "pygments_lexer": "ipython3",
   "version": "3.6.9"
  },
  "widgets": {
   "application/vnd.jupyter.widget-state+json": {
    "state": {},
    "version_major": 1,
    "version_minor": 0
   }
  }
 },
 "nbformat": 4,
 "nbformat_minor": 2
}
